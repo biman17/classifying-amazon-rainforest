{
 "cells": [
  {
   "cell_type": "code",
   "execution_count": 3,
   "metadata": {},
   "outputs": [],
   "source": [
    "import numpy as np # linear algebra\n",
    "import pandas as pd # data processing, CSV file I/O (e.g. pd.read_csv)\n",
    "import os\n",
    "import gc\n",
    "\n",
    "import keras as k\n",
    "from keras.models import Sequential\n",
    "from keras.layers import Dense, Dropout, Flatten\n",
    "from keras.layers import Conv2D, MaxPooling2D\n",
    "\n",
    "import cv2\n",
    "from tqdm import tqdm"
   ]
  },
  {
   "cell_type": "code",
   "execution_count": 8,
   "metadata": {
    "collapsed": true
   },
   "outputs": [],
   "source": [
    "x_train = []\n",
    "y_train = []\n",
    "x_test =  []\n",
    "\n",
    "df_train = pd.read_csv('input/train.csv')\n",
    "flatten = lambda l:[item for sublist in l for item in sublist]\n",
    "labels = list(set(flatten([l.split(' ') for l in df_train['tags'].values])))\n",
    "\n",
    "label_map = {l: i for i, l in enumerate(labels)}\n",
    "inv_label_map = {i: l for l, i in label_map.items()}"
   ]
  },
  {
   "cell_type": "code",
   "execution_count": 12,
   "metadata": {},
   "outputs": [
    {
     "name": "stderr",
     "output_type": "stream",
     "text": [
      "100%|████████████████████████████████████████████████████████████████████████████| 40479/40479 [08:21<00:00, 80.71it/s]\n"
     ]
    }
   ],
   "source": [
    "for f, tags in tqdm(df_train.values, miniters = 1000):\n",
    "    img = cv2.imread('input/train-jpg/{}.jpg'.format(f))\n",
    "    targets = np.zeros(17)\n",
    "    for t in tags.split(' '):\n",
    "        targets[label_map[t]] = 1\n",
    "    x_train.append(cv2.resize(img, (32,32)))\n",
    "    y_train.append(targets)"
   ]
  },
  {
   "cell_type": "code",
   "execution_count": 14,
   "metadata": {},
   "outputs": [
    {
     "name": "stdout",
     "output_type": "stream",
     "text": [
      "(40479, 32, 32, 3)\n",
      "(40479, 17)\n"
     ]
    }
   ],
   "source": [
    "y_train = np.array(y_train, np.uint8)\n",
    "x_train = np.array(x_train, np.float16) / 255.\n",
    "print (x_train.shape)\n",
    "print (y_train.shape)"
   ]
  },
  {
   "cell_type": "code",
   "execution_count": 15,
   "metadata": {
    "collapsed": true
   },
   "outputs": [],
   "source": [
    "split = 35000\n",
    "x_train, x_valid, y_train, y_valid = x_train[:split], x_train[split:], y_train[:split], y_train[split:]"
   ]
  },
  {
   "cell_type": "code",
   "execution_count": 19,
   "metadata": {},
   "outputs": [],
   "source": [
    "model = Sequential()\n",
    "model.add(Conv2D(32, kernel_size=(3, 3),\n",
    "                activation = 'relu',\n",
    "                input_shape = (32, 32, 3)))\n",
    "\n",
    "model.add(Conv2D(64, (3, 3), activation = 'relu'))\n",
    "model.add(MaxPooling2D(pool_size=(2, 2)))\n",
    "model.add(Dropout(0.25))\n",
    "model.add(Flatten())\n",
    "model.add(Dense(128, activation='relu'))\n",
    "model.add(Dropout(0.5))\n",
    "model.add(Dense(17, activation = 'sigmoid'))\n",
    "\n",
    "model.compile(loss = 'binary_crossentropy',\n",
    "             optimizer = 'adam',\n",
    "             metrics=['accuracy'])"
   ]
  },
  {
   "cell_type": "code",
   "execution_count": 21,
   "metadata": {},
   "outputs": [
    {
     "name": "stdout",
     "output_type": "stream",
     "text": [
      "Train on 35000 samples, validate on 5479 samples\n",
      "Epoch 1/4\n"
     ]
    },
    {
     "name": "stdout",
     "output_type": "stream",
     "text": [
      "26368/35000 [=====================>........] - ETA: 386s - loss: 0.6932 - acc: 0.501 - ETA: 285s - loss: 0.6917 - acc: 0.674 - ETA: 254s - loss: 0.6888 - acc: 0.725 - ETA: 237s - loss: 0.6833 - acc: 0.753 - ETA: 227s - loss: 0.6762 - acc: 0.767 - ETA: 219s - loss: 0.6655 - acc: 0.776 - ETA: 213s - loss: 0.6510 - acc: 0.786 - ETA: 209s - loss: 0.6333 - acc: 0.795 - ETA: 206s - loss: 0.6144 - acc: 0.802 - ETA: 203s - loss: 0.5946 - acc: 0.808 - ETA: 200s - loss: 0.5780 - acc: 0.812 - ETA: 198s - loss: 0.5582 - acc: 0.818 - ETA: 196s - loss: 0.5450 - acc: 0.822 - ETA: 194s - loss: 0.5327 - acc: 0.826 - ETA: 192s - loss: 0.5204 - acc: 0.830 - ETA: 191s - loss: 0.5111 - acc: 0.834 - ETA: 193s - loss: 0.5024 - acc: 0.836 - ETA: 192s - loss: 0.4940 - acc: 0.839 - ETA: 191s - loss: 0.4877 - acc: 0.840 - ETA: 189s - loss: 0.4812 - acc: 0.842 - ETA: 188s - loss: 0.4753 - acc: 0.843 - ETA: 187s - loss: 0.4672 - acc: 0.844 - ETA: 185s - loss: 0.4606 - acc: 0.845 - ETA: 184s - loss: 0.4550 - acc: 0.846 - ETA: 183s - loss: 0.4506 - acc: 0.847 - ETA: 182s - loss: 0.4465 - acc: 0.847 - ETA: 181s - loss: 0.4409 - acc: 0.849 - ETA: 180s - loss: 0.4363 - acc: 0.850 - ETA: 179s - loss: 0.4325 - acc: 0.851 - ETA: 177s - loss: 0.4282 - acc: 0.852 - ETA: 176s - loss: 0.4240 - acc: 0.853 - ETA: 176s - loss: 0.4208 - acc: 0.854 - ETA: 175s - loss: 0.4175 - acc: 0.855 - ETA: 174s - loss: 0.4142 - acc: 0.856 - ETA: 173s - loss: 0.4102 - acc: 0.857 - ETA: 172s - loss: 0.4067 - acc: 0.859 - ETA: 171s - loss: 0.4035 - acc: 0.860 - ETA: 170s - loss: 0.4005 - acc: 0.861 - ETA: 170s - loss: 0.3977 - acc: 0.862 - ETA: 169s - loss: 0.3962 - acc: 0.862 - ETA: 168s - loss: 0.3937 - acc: 0.863 - ETA: 167s - loss: 0.3916 - acc: 0.864 - ETA: 166s - loss: 0.3895 - acc: 0.865 - ETA: 165s - loss: 0.3874 - acc: 0.865 - ETA: 165s - loss: 0.3848 - acc: 0.866 - ETA: 165s - loss: 0.3824 - acc: 0.867 - ETA: 164s - loss: 0.3809 - acc: 0.867 - ETA: 163s - loss: 0.3790 - acc: 0.868 - ETA: 162s - loss: 0.3770 - acc: 0.868 - ETA: 161s - loss: 0.3751 - acc: 0.869 - ETA: 160s - loss: 0.3729 - acc: 0.870 - ETA: 160s - loss: 0.3713 - acc: 0.870 - ETA: 159s - loss: 0.3694 - acc: 0.871 - ETA: 158s - loss: 0.3677 - acc: 0.871 - ETA: 157s - loss: 0.3662 - acc: 0.871 - ETA: 157s - loss: 0.3650 - acc: 0.872 - ETA: 156s - loss: 0.3636 - acc: 0.872 - ETA: 155s - loss: 0.3621 - acc: 0.873 - ETA: 154s - loss: 0.3611 - acc: 0.873 - ETA: 153s - loss: 0.3600 - acc: 0.873 - ETA: 152s - loss: 0.3588 - acc: 0.874 - ETA: 152s - loss: 0.3576 - acc: 0.874 - ETA: 151s - loss: 0.3565 - acc: 0.874 - ETA: 151s - loss: 0.3554 - acc: 0.875 - ETA: 150s - loss: 0.3542 - acc: 0.875 - ETA: 149s - loss: 0.3533 - acc: 0.875 - ETA: 148s - loss: 0.3522 - acc: 0.876 - ETA: 147s - loss: 0.3510 - acc: 0.876 - ETA: 147s - loss: 0.3501 - acc: 0.876 - ETA: 146s - loss: 0.3488 - acc: 0.877 - ETA: 145s - loss: 0.3475 - acc: 0.877 - ETA: 144s - loss: 0.3467 - acc: 0.877 - ETA: 144s - loss: 0.3460 - acc: 0.878 - ETA: 143s - loss: 0.3452 - acc: 0.878 - ETA: 143s - loss: 0.3441 - acc: 0.878 - ETA: 142s - loss: 0.3434 - acc: 0.878 - ETA: 141s - loss: 0.3426 - acc: 0.879 - ETA: 141s - loss: 0.3421 - acc: 0.879 - ETA: 140s - loss: 0.3413 - acc: 0.879 - ETA: 139s - loss: 0.3407 - acc: 0.879 - ETA: 138s - loss: 0.3396 - acc: 0.880 - ETA: 138s - loss: 0.3389 - acc: 0.880 - ETA: 137s - loss: 0.3379 - acc: 0.880 - ETA: 136s - loss: 0.3374 - acc: 0.881 - ETA: 135s - loss: 0.3367 - acc: 0.881 - ETA: 135s - loss: 0.3358 - acc: 0.881 - ETA: 135s - loss: 0.3352 - acc: 0.881 - ETA: 134s - loss: 0.3342 - acc: 0.882 - ETA: 133s - loss: 0.3334 - acc: 0.882 - ETA: 133s - loss: 0.3330 - acc: 0.882 - ETA: 132s - loss: 0.3326 - acc: 0.882 - ETA: 131s - loss: 0.3323 - acc: 0.882 - ETA: 130s - loss: 0.3317 - acc: 0.883 - ETA: 130s - loss: 0.3309 - acc: 0.883 - ETA: 129s - loss: 0.3304 - acc: 0.883 - ETA: 128s - loss: 0.3298 - acc: 0.883 - ETA: 127s - loss: 0.3290 - acc: 0.884 - ETA: 127s - loss: 0.3284 - acc: 0.884 - ETA: 127s - loss: 0.3279 - acc: 0.884 - ETA: 126s - loss: 0.3272 - acc: 0.884 - ETA: 125s - loss: 0.3264 - acc: 0.885 - ETA: 124s - loss: 0.3258 - acc: 0.885 - ETA: 124s - loss: 0.3251 - acc: 0.885 - ETA: 123s - loss: 0.3245 - acc: 0.885 - ETA: 122s - loss: 0.3240 - acc: 0.885 - ETA: 121s - loss: 0.3237 - acc: 0.886 - ETA: 120s - loss: 0.3234 - acc: 0.886 - ETA: 120s - loss: 0.3228 - acc: 0.886 - ETA: 119s - loss: 0.3223 - acc: 0.886 - ETA: 118s - loss: 0.3219 - acc: 0.886 - ETA: 117s - loss: 0.3214 - acc: 0.886 - ETA: 117s - loss: 0.3211 - acc: 0.886 - ETA: 116s - loss: 0.3206 - acc: 0.887 - ETA: 115s - loss: 0.3202 - acc: 0.887 - ETA: 115s - loss: 0.3198 - acc: 0.887 - ETA: 114s - loss: 0.3194 - acc: 0.887 - ETA: 113s - loss: 0.3189 - acc: 0.887 - ETA: 112s - loss: 0.3187 - acc: 0.887 - ETA: 112s - loss: 0.3183 - acc: 0.887 - ETA: 111s - loss: 0.3179 - acc: 0.887 - ETA: 110s - loss: 0.3176 - acc: 0.887 - ETA: 109s - loss: 0.3171 - acc: 0.888 - ETA: 109s - loss: 0.3164 - acc: 0.888 - ETA: 108s - loss: 0.3160 - acc: 0.888 - ETA: 107s - loss: 0.3157 - acc: 0.888 - ETA: 106s - loss: 0.3154 - acc: 0.888 - ETA: 106s - loss: 0.3150 - acc: 0.888 - ETA: 105s - loss: 0.3147 - acc: 0.888 - ETA: 104s - loss: 0.3143 - acc: 0.888 - ETA: 103s - loss: 0.3139 - acc: 0.889 - ETA: 103s - loss: 0.3137 - acc: 0.889 - ETA: 102s - loss: 0.3134 - acc: 0.889 - ETA: 101s - loss: 0.3130 - acc: 0.889 - ETA: 101s - loss: 0.3125 - acc: 0.889 - ETA: 100s - loss: 0.3122 - acc: 0.889 - ETA: 99s - loss: 0.3120 - acc: 0.889 - ETA: 98s - loss: 0.3116 - acc: 0.88 - ETA: 98s - loss: 0.3113 - acc: 0.88 - ETA: 97s - loss: 0.3109 - acc: 0.88 - ETA: 97s - loss: 0.3104 - acc: 0.89 - ETA: 96s - loss: 0.3102 - acc: 0.89 - ETA: 95s - loss: 0.3100 - acc: 0.89 - ETA: 94s - loss: 0.3096 - acc: 0.89 - ETA: 94s - loss: 0.3093 - acc: 0.89 - ETA: 93s - loss: 0.3088 - acc: 0.89 - ETA: 92s - loss: 0.3085 - acc: 0.89 - ETA: 92s - loss: 0.3083 - acc: 0.89 - ETA: 91s - loss: 0.3081 - acc: 0.89 - ETA: 90s - loss: 0.3078 - acc: 0.89 - ETA: 90s - loss: 0.3077 - acc: 0.89 - ETA: 89s - loss: 0.3074 - acc: 0.89 - ETA: 88s - loss: 0.3070 - acc: 0.89 - ETA: 87s - loss: 0.3067 - acc: 0.89 - ETA: 87s - loss: 0.3064 - acc: 0.89 - ETA: 86s - loss: 0.3062 - acc: 0.89 - ETA: 85s - loss: 0.3057 - acc: 0.89 - ETA: 84s - loss: 0.3055 - acc: 0.89 - ETA: 84s - loss: 0.3053 - acc: 0.89 - ETA: 83s - loss: 0.3051 - acc: 0.89 - ETA: 82s - loss: 0.3049 - acc: 0.89 - ETA: 81s - loss: 0.3046 - acc: 0.89 - ETA: 81s - loss: 0.3044 - acc: 0.89 - ETA: 80s - loss: 0.3040 - acc: 0.89 - ETA: 79s - loss: 0.3036 - acc: 0.89 - ETA: 78s - loss: 0.3034 - acc: 0.89 - ETA: 78s - loss: 0.3033 - acc: 0.89 - ETA: 77s - loss: 0.3031 - acc: 0.89 - ETA: 76s - loss: 0.3029 - acc: 0.89 - ETA: 75s - loss: 0.3028 - acc: 0.89 - ETA: 75s - loss: 0.3025 - acc: 0.89 - ETA: 74s - loss: 0.3022 - acc: 0.89 - ETA: 73s - loss: 0.3020 - acc: 0.89 - ETA: 73s - loss: 0.3018 - acc: 0.89 - ETA: 72s - loss: 0.3016 - acc: 0.89 - ETA: 71s - loss: 0.3014 - acc: 0.89 - ETA: 70s - loss: 0.3012 - acc: 0.89 - ETA: 70s - loss: 0.3010 - acc: 0.89 - ETA: 69s - loss: 0.3006 - acc: 0.89 - ETA: 68s - loss: 0.3004 - acc: 0.89 - ETA: 67s - loss: 0.3004 - acc: 0.89 - ETA: 67s - loss: 0.3001 - acc: 0.89 - ETA: 66s - loss: 0.2998 - acc: 0.89 - ETA: 65s - loss: 0.2996 - acc: 0.89 - ETA: 64s - loss: 0.2993 - acc: 0.89 - ETA: 64s - loss: 0.2992 - acc: 0.89 - ETA: 63s - loss: 0.2990 - acc: 0.89 - ETA: 62s - loss: 0.2989 - acc: 0.89 - ETA: 62s - loss: 0.2986 - acc: 0.89 - ETA: 61s - loss: 0.2984 - acc: 0.89 - ETA: 60s - loss: 0.2983 - acc: 0.89 - ETA: 59s - loss: 0.2981 - acc: 0.89 - ETA: 59s - loss: 0.2980 - acc: 0.89 - ETA: 58s - loss: 0.2978 - acc: 0.89 - ETA: 58s - loss: 0.2975 - acc: 0.89 - ETA: 57s - loss: 0.2973 - acc: 0.89 - ETA: 56s - loss: 0.2970 - acc: 0.89 - ETA: 56s - loss: 0.2967 - acc: 0.89 - ETA: 55s - loss: 0.2964 - acc: 0.89 - ETA: 54s - loss: 0.2961 - acc: 0.89 - ETA: 53s - loss: 0.2958 - acc: 0.89 - ETA: 53s - loss: 0.2957 - acc: 0.89 - ETA: 52s - loss: 0.2955 - acc: 0.89 - ETA: 51s - loss: 0.2953 - acc: 0.89 - ETA: 51s - loss: 0.2951 - acc: 0.89 - ETA: 50s - loss: 0.2949 - acc: 0.89 - ETA: 49s - loss: 0.2946 - acc: 0.8946\b\b\b\b\b\b\b\b\b\b\b\b\b\b\b\b\b\b\b\b\b\b\b\b\b\b\b\b\b\b\b\b\b\b\b\b\b\b\b\b\b\b\b\b\b\b\b\b\b\b\b\b\b\b\b\b\b\b\b\b\b\b\b\b\b\b\b\b\b\b\b\b\b\b\b\b\b\b\b\b\b\b\b\b"
     ]
    },
    {
     "name": "stdout",
     "output_type": "stream",
     "text": [
      "35000/35000 [==============================] - ETA: 48s - loss: 0.2944 - acc: 0.89 - ETA: 48s - loss: 0.2942 - acc: 0.89 - ETA: 47s - loss: 0.2940 - acc: 0.89 - ETA: 46s - loss: 0.2938 - acc: 0.89 - ETA: 45s - loss: 0.2936 - acc: 0.89 - ETA: 45s - loss: 0.2934 - acc: 0.89 - ETA: 44s - loss: 0.2933 - acc: 0.89 - ETA: 43s - loss: 0.2932 - acc: 0.89 - ETA: 43s - loss: 0.2930 - acc: 0.89 - ETA: 42s - loss: 0.2927 - acc: 0.89 - ETA: 41s - loss: 0.2925 - acc: 0.89 - ETA: 40s - loss: 0.2924 - acc: 0.89 - ETA: 40s - loss: 0.2921 - acc: 0.89 - ETA: 39s - loss: 0.2918 - acc: 0.89 - ETA: 38s - loss: 0.2916 - acc: 0.89 - ETA: 37s - loss: 0.2915 - acc: 0.89 - ETA: 37s - loss: 0.2913 - acc: 0.89 - ETA: 36s - loss: 0.2911 - acc: 0.89 - ETA: 35s - loss: 0.2909 - acc: 0.89 - ETA: 35s - loss: 0.2907 - acc: 0.89 - ETA: 34s - loss: 0.2906 - acc: 0.89 - ETA: 33s - loss: 0.2903 - acc: 0.89 - ETA: 32s - loss: 0.2901 - acc: 0.89 - ETA: 32s - loss: 0.2898 - acc: 0.89 - ETA: 31s - loss: 0.2895 - acc: 0.89 - ETA: 30s - loss: 0.2893 - acc: 0.89 - ETA: 29s - loss: 0.2892 - acc: 0.89 - ETA: 29s - loss: 0.2890 - acc: 0.89 - ETA: 28s - loss: 0.2888 - acc: 0.89 - ETA: 27s - loss: 0.2886 - acc: 0.89 - ETA: 26s - loss: 0.2884 - acc: 0.89 - ETA: 26s - loss: 0.2883 - acc: 0.89 - ETA: 25s - loss: 0.2881 - acc: 0.89 - ETA: 24s - loss: 0.2881 - acc: 0.89 - ETA: 23s - loss: 0.2879 - acc: 0.89 - ETA: 23s - loss: 0.2879 - acc: 0.89 - ETA: 22s - loss: 0.2877 - acc: 0.89 - ETA: 21s - loss: 0.2876 - acc: 0.89 - ETA: 20s - loss: 0.2874 - acc: 0.89 - ETA: 20s - loss: 0.2873 - acc: 0.89 - ETA: 19s - loss: 0.2872 - acc: 0.89 - ETA: 18s - loss: 0.2870 - acc: 0.89 - ETA: 17s - loss: 0.2869 - acc: 0.89 - ETA: 17s - loss: 0.2869 - acc: 0.89 - ETA: 16s - loss: 0.2866 - acc: 0.89 - ETA: 15s - loss: 0.2865 - acc: 0.89 - ETA: 15s - loss: 0.2862 - acc: 0.89 - ETA: 14s - loss: 0.2861 - acc: 0.89 - ETA: 13s - loss: 0.2859 - acc: 0.89 - ETA: 12s - loss: 0.2858 - acc: 0.89 - ETA: 12s - loss: 0.2857 - acc: 0.89 - ETA: 11s - loss: 0.2855 - acc: 0.89 - ETA: 10s - loss: 0.2853 - acc: 0.89 - ETA: 9s - loss: 0.2851 - acc: 0.8970 - ETA: 9s - loss: 0.2850 - acc: 0.897 - ETA: 8s - loss: 0.2848 - acc: 0.897 - ETA: 7s - loss: 0.2846 - acc: 0.897 - ETA: 6s - loss: 0.2845 - acc: 0.897 - ETA: 6s - loss: 0.2843 - acc: 0.897 - ETA: 5s - loss: 0.2841 - acc: 0.897 - ETA: 4s - loss: 0.2839 - acc: 0.897 - ETA: 3s - loss: 0.2837 - acc: 0.897 - ETA: 3s - loss: 0.2835 - acc: 0.897 - ETA: 2s - loss: 0.2834 - acc: 0.897 - ETA: 1s - loss: 0.2834 - acc: 0.897 - ETA: 1s - loss: 0.2832 - acc: 0.897 - ETA: 0s - loss: 0.2830 - acc: 0.897 - 208s - loss: 0.2830 - acc: 0.8975 - val_loss: 0.2329 - val_acc: 0.9101\n",
      "Epoch 2/4\n"
     ]
    },
    {
     "name": "stdout",
     "output_type": "stream",
     "text": [
      "26624/35000 [=====================>........] - ETA: 197s - loss: 0.2496 - acc: 0.904 - ETA: 191s - loss: 0.2492 - acc: 0.906 - ETA: 190s - loss: 0.2464 - acc: 0.908 - ETA: 188s - loss: 0.2416 - acc: 0.909 - ETA: 187s - loss: 0.2398 - acc: 0.909 - ETA: 187s - loss: 0.2420 - acc: 0.908 - ETA: 185s - loss: 0.2412 - acc: 0.909 - ETA: 184s - loss: 0.2424 - acc: 0.909 - ETA: 183s - loss: 0.2401 - acc: 0.910 - ETA: 183s - loss: 0.2390 - acc: 0.910 - ETA: 182s - loss: 0.2409 - acc: 0.909 - ETA: 181s - loss: 0.2418 - acc: 0.909 - ETA: 180s - loss: 0.2436 - acc: 0.907 - ETA: 180s - loss: 0.2425 - acc: 0.908 - ETA: 179s - loss: 0.2410 - acc: 0.909 - ETA: 178s - loss: 0.2400 - acc: 0.909 - ETA: 177s - loss: 0.2401 - acc: 0.909 - ETA: 177s - loss: 0.2403 - acc: 0.909 - ETA: 177s - loss: 0.2402 - acc: 0.909 - ETA: 176s - loss: 0.2407 - acc: 0.909 - ETA: 175s - loss: 0.2407 - acc: 0.909 - ETA: 175s - loss: 0.2413 - acc: 0.908 - ETA: 174s - loss: 0.2402 - acc: 0.909 - ETA: 173s - loss: 0.2396 - acc: 0.909 - ETA: 173s - loss: 0.2395 - acc: 0.909 - ETA: 172s - loss: 0.2397 - acc: 0.909 - ETA: 171s - loss: 0.2392 - acc: 0.909 - ETA: 170s - loss: 0.2392 - acc: 0.909 - ETA: 170s - loss: 0.2386 - acc: 0.909 - ETA: 169s - loss: 0.2391 - acc: 0.909 - ETA: 168s - loss: 0.2393 - acc: 0.909 - ETA: 167s - loss: 0.2390 - acc: 0.909 - ETA: 167s - loss: 0.2383 - acc: 0.909 - ETA: 166s - loss: 0.2381 - acc: 0.909 - ETA: 165s - loss: 0.2379 - acc: 0.909 - ETA: 164s - loss: 0.2377 - acc: 0.909 - ETA: 164s - loss: 0.2377 - acc: 0.909 - ETA: 163s - loss: 0.2380 - acc: 0.909 - ETA: 162s - loss: 0.2382 - acc: 0.908 - ETA: 162s - loss: 0.2388 - acc: 0.908 - ETA: 161s - loss: 0.2390 - acc: 0.908 - ETA: 160s - loss: 0.2388 - acc: 0.908 - ETA: 159s - loss: 0.2386 - acc: 0.908 - ETA: 159s - loss: 0.2384 - acc: 0.908 - ETA: 158s - loss: 0.2383 - acc: 0.909 - ETA: 157s - loss: 0.2382 - acc: 0.909 - ETA: 156s - loss: 0.2380 - acc: 0.909 - ETA: 156s - loss: 0.2377 - acc: 0.909 - ETA: 155s - loss: 0.2378 - acc: 0.909 - ETA: 154s - loss: 0.2380 - acc: 0.909 - ETA: 154s - loss: 0.2386 - acc: 0.908 - ETA: 153s - loss: 0.2389 - acc: 0.908 - ETA: 152s - loss: 0.2385 - acc: 0.908 - ETA: 152s - loss: 0.2381 - acc: 0.908 - ETA: 151s - loss: 0.2376 - acc: 0.909 - ETA: 150s - loss: 0.2374 - acc: 0.909 - ETA: 149s - loss: 0.2374 - acc: 0.909 - ETA: 149s - loss: 0.2371 - acc: 0.909 - ETA: 149s - loss: 0.2371 - acc: 0.909 - ETA: 150s - loss: 0.2371 - acc: 0.909 - ETA: 150s - loss: 0.2375 - acc: 0.908 - ETA: 150s - loss: 0.2378 - acc: 0.908 - ETA: 150s - loss: 0.2383 - acc: 0.908 - ETA: 149s - loss: 0.2383 - acc: 0.908 - ETA: 148s - loss: 0.2383 - acc: 0.908 - ETA: 147s - loss: 0.2381 - acc: 0.908 - ETA: 147s - loss: 0.2382 - acc: 0.908 - ETA: 146s - loss: 0.2385 - acc: 0.908 - ETA: 145s - loss: 0.2382 - acc: 0.908 - ETA: 145s - loss: 0.2383 - acc: 0.908 - ETA: 144s - loss: 0.2385 - acc: 0.908 - ETA: 144s - loss: 0.2384 - acc: 0.908 - ETA: 143s - loss: 0.2384 - acc: 0.908 - ETA: 142s - loss: 0.2384 - acc: 0.908 - ETA: 141s - loss: 0.2389 - acc: 0.908 - ETA: 141s - loss: 0.2388 - acc: 0.908 - ETA: 140s - loss: 0.2387 - acc: 0.908 - ETA: 139s - loss: 0.2387 - acc: 0.908 - ETA: 138s - loss: 0.2389 - acc: 0.908 - ETA: 138s - loss: 0.2388 - acc: 0.908 - ETA: 137s - loss: 0.2389 - acc: 0.908 - ETA: 136s - loss: 0.2389 - acc: 0.908 - ETA: 135s - loss: 0.2391 - acc: 0.908 - ETA: 135s - loss: 0.2393 - acc: 0.908 - ETA: 134s - loss: 0.2393 - acc: 0.907 - ETA: 133s - loss: 0.2392 - acc: 0.907 - ETA: 132s - loss: 0.2391 - acc: 0.907 - ETA: 132s - loss: 0.2390 - acc: 0.907 - ETA: 131s - loss: 0.2389 - acc: 0.908 - ETA: 130s - loss: 0.2389 - acc: 0.908 - ETA: 130s - loss: 0.2389 - acc: 0.908 - ETA: 129s - loss: 0.2388 - acc: 0.908 - ETA: 128s - loss: 0.2389 - acc: 0.907 - ETA: 128s - loss: 0.2388 - acc: 0.908 - ETA: 128s - loss: 0.2386 - acc: 0.908 - ETA: 127s - loss: 0.2386 - acc: 0.908 - ETA: 127s - loss: 0.2387 - acc: 0.908 - ETA: 126s - loss: 0.2389 - acc: 0.907 - ETA: 125s - loss: 0.2391 - acc: 0.907 - ETA: 124s - loss: 0.2393 - acc: 0.907 - ETA: 124s - loss: 0.2393 - acc: 0.907 - ETA: 123s - loss: 0.2392 - acc: 0.907 - ETA: 122s - loss: 0.2393 - acc: 0.907 - ETA: 122s - loss: 0.2392 - acc: 0.907 - ETA: 121s - loss: 0.2390 - acc: 0.907 - ETA: 121s - loss: 0.2391 - acc: 0.907 - ETA: 120s - loss: 0.2390 - acc: 0.907 - ETA: 119s - loss: 0.2388 - acc: 0.907 - ETA: 118s - loss: 0.2388 - acc: 0.908 - ETA: 118s - loss: 0.2388 - acc: 0.908 - ETA: 117s - loss: 0.2390 - acc: 0.907 - ETA: 116s - loss: 0.2393 - acc: 0.907 - ETA: 115s - loss: 0.2393 - acc: 0.907 - ETA: 115s - loss: 0.2394 - acc: 0.907 - ETA: 114s - loss: 0.2393 - acc: 0.908 - ETA: 113s - loss: 0.2392 - acc: 0.908 - ETA: 112s - loss: 0.2391 - acc: 0.908 - ETA: 112s - loss: 0.2391 - acc: 0.908 - ETA: 111s - loss: 0.2391 - acc: 0.908 - ETA: 110s - loss: 0.2392 - acc: 0.908 - ETA: 109s - loss: 0.2391 - acc: 0.908 - ETA: 109s - loss: 0.2393 - acc: 0.907 - ETA: 108s - loss: 0.2391 - acc: 0.908 - ETA: 107s - loss: 0.2390 - acc: 0.908 - ETA: 106s - loss: 0.2388 - acc: 0.908 - ETA: 106s - loss: 0.2387 - acc: 0.908 - ETA: 105s - loss: 0.2387 - acc: 0.908 - ETA: 104s - loss: 0.2387 - acc: 0.908 - ETA: 103s - loss: 0.2385 - acc: 0.908 - ETA: 103s - loss: 0.2386 - acc: 0.908 - ETA: 102s - loss: 0.2385 - acc: 0.908 - ETA: 101s - loss: 0.2385 - acc: 0.908 - ETA: 100s - loss: 0.2385 - acc: 0.908 - ETA: 100s - loss: 0.2384 - acc: 0.908 - ETA: 99s - loss: 0.2384 - acc: 0.908 - ETA: 98s - loss: 0.2382 - acc: 0.90 - ETA: 97s - loss: 0.2382 - acc: 0.90 - ETA: 97s - loss: 0.2381 - acc: 0.90 - ETA: 96s - loss: 0.2380 - acc: 0.90 - ETA: 95s - loss: 0.2380 - acc: 0.90 - ETA: 94s - loss: 0.2380 - acc: 0.90 - ETA: 94s - loss: 0.2380 - acc: 0.90 - ETA: 93s - loss: 0.2380 - acc: 0.90 - ETA: 92s - loss: 0.2380 - acc: 0.90 - ETA: 91s - loss: 0.2378 - acc: 0.90 - ETA: 91s - loss: 0.2377 - acc: 0.90 - ETA: 90s - loss: 0.2376 - acc: 0.90 - ETA: 89s - loss: 0.2375 - acc: 0.90 - ETA: 88s - loss: 0.2375 - acc: 0.90 - ETA: 88s - loss: 0.2375 - acc: 0.90 - ETA: 87s - loss: 0.2374 - acc: 0.90 - ETA: 86s - loss: 0.2375 - acc: 0.90 - ETA: 86s - loss: 0.2374 - acc: 0.90 - ETA: 85s - loss: 0.2374 - acc: 0.90 - ETA: 84s - loss: 0.2373 - acc: 0.90 - ETA: 83s - loss: 0.2374 - acc: 0.90 - ETA: 83s - loss: 0.2373 - acc: 0.90 - ETA: 82s - loss: 0.2373 - acc: 0.90 - ETA: 81s - loss: 0.2371 - acc: 0.90 - ETA: 80s - loss: 0.2370 - acc: 0.90 - ETA: 80s - loss: 0.2369 - acc: 0.90 - ETA: 79s - loss: 0.2369 - acc: 0.90 - ETA: 78s - loss: 0.2368 - acc: 0.90 - ETA: 77s - loss: 0.2368 - acc: 0.90 - ETA: 77s - loss: 0.2368 - acc: 0.90 - ETA: 76s - loss: 0.2369 - acc: 0.90 - ETA: 75s - loss: 0.2368 - acc: 0.90 - ETA: 75s - loss: 0.2367 - acc: 0.90 - ETA: 74s - loss: 0.2367 - acc: 0.90 - ETA: 73s - loss: 0.2368 - acc: 0.90 - ETA: 72s - loss: 0.2368 - acc: 0.90 - ETA: 72s - loss: 0.2368 - acc: 0.90 - ETA: 71s - loss: 0.2367 - acc: 0.90 - ETA: 70s - loss: 0.2364 - acc: 0.90 - ETA: 70s - loss: 0.2364 - acc: 0.90 - ETA: 69s - loss: 0.2365 - acc: 0.90 - ETA: 68s - loss: 0.2364 - acc: 0.90 - ETA: 67s - loss: 0.2364 - acc: 0.90 - ETA: 67s - loss: 0.2364 - acc: 0.90 - ETA: 66s - loss: 0.2364 - acc: 0.90 - ETA: 65s - loss: 0.2364 - acc: 0.90 - ETA: 64s - loss: 0.2364 - acc: 0.90 - ETA: 64s - loss: 0.2361 - acc: 0.90 - ETA: 63s - loss: 0.2362 - acc: 0.90 - ETA: 62s - loss: 0.2364 - acc: 0.90 - ETA: 62s - loss: 0.2362 - acc: 0.90 - ETA: 61s - loss: 0.2363 - acc: 0.90 - ETA: 60s - loss: 0.2362 - acc: 0.90 - ETA: 59s - loss: 0.2361 - acc: 0.90 - ETA: 59s - loss: 0.2361 - acc: 0.90 - ETA: 58s - loss: 0.2362 - acc: 0.90 - ETA: 57s - loss: 0.2363 - acc: 0.90 - ETA: 57s - loss: 0.2363 - acc: 0.90 - ETA: 56s - loss: 0.2362 - acc: 0.90 - ETA: 55s - loss: 0.2363 - acc: 0.90 - ETA: 54s - loss: 0.2362 - acc: 0.90 - ETA: 54s - loss: 0.2363 - acc: 0.90 - ETA: 53s - loss: 0.2363 - acc: 0.90 - ETA: 52s - loss: 0.2363 - acc: 0.90 - ETA: 52s - loss: 0.2362 - acc: 0.90 - ETA: 51s - loss: 0.2362 - acc: 0.90 - ETA: 50s - loss: 0.2362 - acc: 0.90 - ETA: 49s - loss: 0.2362 - acc: 0.90 - ETA: 49s - loss: 0.2361 - acc: 0.90 - ETA: 48s - loss: 0.2360 - acc: 0.90 - ETA: 47s - loss: 0.2361 - acc: 0.90 - ETA: 47s - loss: 0.2362 - acc: 0.90 - ETA: 46s - loss: 0.2362 - acc: 0.9093"
     ]
    },
    {
     "name": "stdout",
     "output_type": "stream",
     "text": [
      "35000/35000 [==============================] - ETA: 45s - loss: 0.2360 - acc: 0.90 - ETA: 44s - loss: 0.2359 - acc: 0.90 - ETA: 44s - loss: 0.2359 - acc: 0.90 - ETA: 43s - loss: 0.2359 - acc: 0.90 - ETA: 42s - loss: 0.2358 - acc: 0.90 - ETA: 42s - loss: 0.2358 - acc: 0.90 - ETA: 41s - loss: 0.2358 - acc: 0.90 - ETA: 40s - loss: 0.2357 - acc: 0.90 - ETA: 39s - loss: 0.2356 - acc: 0.90 - ETA: 39s - loss: 0.2356 - acc: 0.90 - ETA: 38s - loss: 0.2355 - acc: 0.90 - ETA: 37s - loss: 0.2355 - acc: 0.90 - ETA: 37s - loss: 0.2355 - acc: 0.90 - ETA: 36s - loss: 0.2356 - acc: 0.90 - ETA: 35s - loss: 0.2355 - acc: 0.90 - ETA: 34s - loss: 0.2354 - acc: 0.90 - ETA: 34s - loss: 0.2353 - acc: 0.90 - ETA: 33s - loss: 0.2354 - acc: 0.90 - ETA: 32s - loss: 0.2354 - acc: 0.90 - ETA: 32s - loss: 0.2354 - acc: 0.90 - ETA: 31s - loss: 0.2354 - acc: 0.90 - ETA: 30s - loss: 0.2355 - acc: 0.90 - ETA: 29s - loss: 0.2355 - acc: 0.90 - ETA: 29s - loss: 0.2355 - acc: 0.90 - ETA: 28s - loss: 0.2354 - acc: 0.90 - ETA: 27s - loss: 0.2354 - acc: 0.90 - ETA: 27s - loss: 0.2355 - acc: 0.90 - ETA: 26s - loss: 0.2354 - acc: 0.90 - ETA: 25s - loss: 0.2354 - acc: 0.90 - ETA: 25s - loss: 0.2354 - acc: 0.90 - ETA: 24s - loss: 0.2355 - acc: 0.90 - ETA: 23s - loss: 0.2356 - acc: 0.90 - ETA: 22s - loss: 0.2355 - acc: 0.90 - ETA: 22s - loss: 0.2356 - acc: 0.90 - ETA: 21s - loss: 0.2355 - acc: 0.90 - ETA: 20s - loss: 0.2354 - acc: 0.90 - ETA: 20s - loss: 0.2354 - acc: 0.90 - ETA: 19s - loss: 0.2355 - acc: 0.90 - ETA: 18s - loss: 0.2355 - acc: 0.90 - ETA: 17s - loss: 0.2356 - acc: 0.90 - ETA: 17s - loss: 0.2355 - acc: 0.90 - ETA: 16s - loss: 0.2356 - acc: 0.90 - ETA: 15s - loss: 0.2355 - acc: 0.90 - ETA: 15s - loss: 0.2355 - acc: 0.90 - ETA: 14s - loss: 0.2355 - acc: 0.90 - ETA: 13s - loss: 0.2354 - acc: 0.90 - ETA: 12s - loss: 0.2353 - acc: 0.90 - ETA: 12s - loss: 0.2353 - acc: 0.90 - ETA: 11s - loss: 0.2352 - acc: 0.90 - ETA: 10s - loss: 0.2351 - acc: 0.90 - ETA: 10s - loss: 0.2351 - acc: 0.90 - ETA: 9s - loss: 0.2351 - acc: 0.9095 - ETA: 8s - loss: 0.2351 - acc: 0.909 - ETA: 8s - loss: 0.2351 - acc: 0.909 - ETA: 7s - loss: 0.2351 - acc: 0.909 - ETA: 6s - loss: 0.2351 - acc: 0.909 - ETA: 5s - loss: 0.2351 - acc: 0.909 - ETA: 5s - loss: 0.2350 - acc: 0.909 - ETA: 4s - loss: 0.2350 - acc: 0.909 - ETA: 3s - loss: 0.2350 - acc: 0.909 - ETA: 3s - loss: 0.2349 - acc: 0.909 - ETA: 2s - loss: 0.2349 - acc: 0.909 - ETA: 1s - loss: 0.2349 - acc: 0.909 - ETA: 1s - loss: 0.2348 - acc: 0.909 - ETA: 0s - loss: 0.2348 - acc: 0.909 - 200s - loss: 0.2348 - acc: 0.9096 - val_loss: 0.2215 - val_acc: 0.9120\n",
      "Epoch 3/4\n"
     ]
    },
    {
     "name": "stdout",
     "output_type": "stream",
     "text": [
      "26624/35000 [=====================>........] - ETA: 193s - loss: 0.2212 - acc: 0.911 - ETA: 189s - loss: 0.2264 - acc: 0.910 - ETA: 187s - loss: 0.2235 - acc: 0.910 - ETA: 186s - loss: 0.2208 - acc: 0.912 - ETA: 184s - loss: 0.2218 - acc: 0.912 - ETA: 183s - loss: 0.2239 - acc: 0.912 - ETA: 183s - loss: 0.2245 - acc: 0.912 - ETA: 182s - loss: 0.2263 - acc: 0.911 - ETA: 182s - loss: 0.2299 - acc: 0.909 - ETA: 181s - loss: 0.2297 - acc: 0.909 - ETA: 181s - loss: 0.2298 - acc: 0.909 - ETA: 180s - loss: 0.2290 - acc: 0.909 - ETA: 180s - loss: 0.2277 - acc: 0.909 - ETA: 179s - loss: 0.2290 - acc: 0.909 - ETA: 179s - loss: 0.2298 - acc: 0.909 - ETA: 178s - loss: 0.2282 - acc: 0.909 - ETA: 178s - loss: 0.2289 - acc: 0.909 - ETA: 177s - loss: 0.2285 - acc: 0.909 - ETA: 176s - loss: 0.2283 - acc: 0.910 - ETA: 176s - loss: 0.2292 - acc: 0.910 - ETA: 175s - loss: 0.2287 - acc: 0.910 - ETA: 174s - loss: 0.2281 - acc: 0.910 - ETA: 173s - loss: 0.2276 - acc: 0.910 - ETA: 172s - loss: 0.2285 - acc: 0.910 - ETA: 172s - loss: 0.2272 - acc: 0.910 - ETA: 171s - loss: 0.2278 - acc: 0.910 - ETA: 170s - loss: 0.2282 - acc: 0.910 - ETA: 170s - loss: 0.2296 - acc: 0.909 - ETA: 169s - loss: 0.2298 - acc: 0.909 - ETA: 168s - loss: 0.2291 - acc: 0.910 - ETA: 167s - loss: 0.2289 - acc: 0.910 - ETA: 167s - loss: 0.2292 - acc: 0.910 - ETA: 166s - loss: 0.2288 - acc: 0.910 - ETA: 165s - loss: 0.2286 - acc: 0.910 - ETA: 165s - loss: 0.2297 - acc: 0.910 - ETA: 164s - loss: 0.2296 - acc: 0.910 - ETA: 163s - loss: 0.2297 - acc: 0.910 - ETA: 162s - loss: 0.2301 - acc: 0.909 - ETA: 162s - loss: 0.2301 - acc: 0.909 - ETA: 161s - loss: 0.2305 - acc: 0.909 - ETA: 160s - loss: 0.2306 - acc: 0.909 - ETA: 160s - loss: 0.2310 - acc: 0.909 - ETA: 159s - loss: 0.2310 - acc: 0.909 - ETA: 158s - loss: 0.2313 - acc: 0.909 - ETA: 157s - loss: 0.2317 - acc: 0.908 - ETA: 157s - loss: 0.2318 - acc: 0.908 - ETA: 156s - loss: 0.2310 - acc: 0.909 - ETA: 155s - loss: 0.2308 - acc: 0.909 - ETA: 155s - loss: 0.2310 - acc: 0.909 - ETA: 154s - loss: 0.2312 - acc: 0.909 - ETA: 153s - loss: 0.2314 - acc: 0.908 - ETA: 153s - loss: 0.2312 - acc: 0.909 - ETA: 152s - loss: 0.2315 - acc: 0.908 - ETA: 151s - loss: 0.2315 - acc: 0.909 - ETA: 151s - loss: 0.2313 - acc: 0.909 - ETA: 150s - loss: 0.2312 - acc: 0.909 - ETA: 149s - loss: 0.2314 - acc: 0.909 - ETA: 149s - loss: 0.2322 - acc: 0.909 - ETA: 148s - loss: 0.2321 - acc: 0.908 - ETA: 147s - loss: 0.2315 - acc: 0.909 - ETA: 146s - loss: 0.2318 - acc: 0.909 - ETA: 146s - loss: 0.2318 - acc: 0.909 - ETA: 145s - loss: 0.2317 - acc: 0.909 - ETA: 144s - loss: 0.2315 - acc: 0.909 - ETA: 144s - loss: 0.2314 - acc: 0.909 - ETA: 143s - loss: 0.2317 - acc: 0.909 - ETA: 142s - loss: 0.2315 - acc: 0.909 - ETA: 141s - loss: 0.2312 - acc: 0.909 - ETA: 141s - loss: 0.2310 - acc: 0.909 - ETA: 140s - loss: 0.2306 - acc: 0.910 - ETA: 139s - loss: 0.2304 - acc: 0.910 - ETA: 139s - loss: 0.2304 - acc: 0.910 - ETA: 138s - loss: 0.2304 - acc: 0.910 - ETA: 137s - loss: 0.2305 - acc: 0.910 - ETA: 137s - loss: 0.2303 - acc: 0.910 - ETA: 136s - loss: 0.2304 - acc: 0.910 - ETA: 135s - loss: 0.2304 - acc: 0.910 - ETA: 135s - loss: 0.2304 - acc: 0.910 - ETA: 134s - loss: 0.2304 - acc: 0.910 - ETA: 133s - loss: 0.2302 - acc: 0.910 - ETA: 133s - loss: 0.2301 - acc: 0.910 - ETA: 132s - loss: 0.2302 - acc: 0.910 - ETA: 131s - loss: 0.2302 - acc: 0.910 - ETA: 131s - loss: 0.2300 - acc: 0.910 - ETA: 130s - loss: 0.2301 - acc: 0.910 - ETA: 129s - loss: 0.2302 - acc: 0.910 - ETA: 129s - loss: 0.2301 - acc: 0.910 - ETA: 128s - loss: 0.2298 - acc: 0.910 - ETA: 127s - loss: 0.2297 - acc: 0.910 - ETA: 127s - loss: 0.2299 - acc: 0.910 - ETA: 126s - loss: 0.2299 - acc: 0.910 - ETA: 125s - loss: 0.2300 - acc: 0.910 - ETA: 125s - loss: 0.2299 - acc: 0.910 - ETA: 124s - loss: 0.2301 - acc: 0.910 - ETA: 123s - loss: 0.2303 - acc: 0.910 - ETA: 123s - loss: 0.2303 - acc: 0.910 - ETA: 122s - loss: 0.2302 - acc: 0.910 - ETA: 121s - loss: 0.2299 - acc: 0.910 - ETA: 121s - loss: 0.2295 - acc: 0.910 - ETA: 120s - loss: 0.2295 - acc: 0.910 - ETA: 120s - loss: 0.2294 - acc: 0.910 - ETA: 119s - loss: 0.2294 - acc: 0.910 - ETA: 119s - loss: 0.2293 - acc: 0.910 - ETA: 118s - loss: 0.2294 - acc: 0.910 - ETA: 118s - loss: 0.2293 - acc: 0.910 - ETA: 118s - loss: 0.2295 - acc: 0.910 - ETA: 117s - loss: 0.2296 - acc: 0.910 - ETA: 116s - loss: 0.2295 - acc: 0.910 - ETA: 116s - loss: 0.2295 - acc: 0.910 - ETA: 115s - loss: 0.2294 - acc: 0.910 - ETA: 114s - loss: 0.2295 - acc: 0.910 - ETA: 113s - loss: 0.2296 - acc: 0.910 - ETA: 113s - loss: 0.2296 - acc: 0.910 - ETA: 112s - loss: 0.2297 - acc: 0.910 - ETA: 111s - loss: 0.2297 - acc: 0.910 - ETA: 110s - loss: 0.2295 - acc: 0.910 - ETA: 110s - loss: 0.2294 - acc: 0.910 - ETA: 109s - loss: 0.2293 - acc: 0.910 - ETA: 108s - loss: 0.2295 - acc: 0.910 - ETA: 108s - loss: 0.2296 - acc: 0.910 - ETA: 107s - loss: 0.2296 - acc: 0.910 - ETA: 106s - loss: 0.2296 - acc: 0.910 - ETA: 105s - loss: 0.2296 - acc: 0.910 - ETA: 105s - loss: 0.2296 - acc: 0.910 - ETA: 104s - loss: 0.2294 - acc: 0.910 - ETA: 103s - loss: 0.2295 - acc: 0.910 - ETA: 102s - loss: 0.2296 - acc: 0.910 - ETA: 102s - loss: 0.2295 - acc: 0.910 - ETA: 101s - loss: 0.2294 - acc: 0.910 - ETA: 100s - loss: 0.2294 - acc: 0.910 - ETA: 100s - loss: 0.2293 - acc: 0.910 - ETA: 99s - loss: 0.2294 - acc: 0.910 - ETA: 98s - loss: 0.2295 - acc: 0.91 - ETA: 97s - loss: 0.2296 - acc: 0.91 - ETA: 97s - loss: 0.2294 - acc: 0.91 - ETA: 96s - loss: 0.2293 - acc: 0.91 - ETA: 95s - loss: 0.2294 - acc: 0.91 - ETA: 95s - loss: 0.2294 - acc: 0.91 - ETA: 94s - loss: 0.2294 - acc: 0.91 - ETA: 93s - loss: 0.2294 - acc: 0.91 - ETA: 92s - loss: 0.2294 - acc: 0.91 - ETA: 92s - loss: 0.2295 - acc: 0.91 - ETA: 91s - loss: 0.2296 - acc: 0.91 - ETA: 90s - loss: 0.2296 - acc: 0.91 - ETA: 90s - loss: 0.2296 - acc: 0.91 - ETA: 89s - loss: 0.2296 - acc: 0.91 - ETA: 88s - loss: 0.2296 - acc: 0.91 - ETA: 87s - loss: 0.2296 - acc: 0.91 - ETA: 87s - loss: 0.2295 - acc: 0.91 - ETA: 86s - loss: 0.2296 - acc: 0.91 - ETA: 85s - loss: 0.2297 - acc: 0.91 - ETA: 85s - loss: 0.2295 - acc: 0.91 - ETA: 84s - loss: 0.2295 - acc: 0.91 - ETA: 83s - loss: 0.2295 - acc: 0.91 - ETA: 82s - loss: 0.2295 - acc: 0.91 - ETA: 82s - loss: 0.2296 - acc: 0.91 - ETA: 81s - loss: 0.2297 - acc: 0.91 - ETA: 80s - loss: 0.2298 - acc: 0.91 - ETA: 80s - loss: 0.2296 - acc: 0.91 - ETA: 79s - loss: 0.2296 - acc: 0.91 - ETA: 78s - loss: 0.2296 - acc: 0.91 - ETA: 77s - loss: 0.2296 - acc: 0.91 - ETA: 77s - loss: 0.2297 - acc: 0.91 - ETA: 76s - loss: 0.2297 - acc: 0.91 - ETA: 75s - loss: 0.2297 - acc: 0.91 - ETA: 75s - loss: 0.2297 - acc: 0.91 - ETA: 74s - loss: 0.2297 - acc: 0.91 - ETA: 73s - loss: 0.2297 - acc: 0.91 - ETA: 72s - loss: 0.2296 - acc: 0.91 - ETA: 72s - loss: 0.2296 - acc: 0.91 - ETA: 71s - loss: 0.2297 - acc: 0.91 - ETA: 70s - loss: 0.2297 - acc: 0.91 - ETA: 70s - loss: 0.2296 - acc: 0.91 - ETA: 69s - loss: 0.2296 - acc: 0.91 - ETA: 68s - loss: 0.2296 - acc: 0.91 - ETA: 68s - loss: 0.2297 - acc: 0.91 - ETA: 67s - loss: 0.2298 - acc: 0.91 - ETA: 66s - loss: 0.2298 - acc: 0.91 - ETA: 65s - loss: 0.2297 - acc: 0.91 - ETA: 65s - loss: 0.2297 - acc: 0.91 - ETA: 64s - loss: 0.2297 - acc: 0.91 - ETA: 63s - loss: 0.2297 - acc: 0.91 - ETA: 63s - loss: 0.2298 - acc: 0.91 - ETA: 62s - loss: 0.2298 - acc: 0.91 - ETA: 61s - loss: 0.2299 - acc: 0.91 - ETA: 61s - loss: 0.2298 - acc: 0.91 - ETA: 60s - loss: 0.2298 - acc: 0.91 - ETA: 59s - loss: 0.2298 - acc: 0.91 - ETA: 58s - loss: 0.2297 - acc: 0.91 - ETA: 58s - loss: 0.2296 - acc: 0.91 - ETA: 57s - loss: 0.2297 - acc: 0.91 - ETA: 56s - loss: 0.2298 - acc: 0.91 - ETA: 56s - loss: 0.2298 - acc: 0.91 - ETA: 55s - loss: 0.2298 - acc: 0.91 - ETA: 54s - loss: 0.2299 - acc: 0.91 - ETA: 53s - loss: 0.2299 - acc: 0.91 - ETA: 53s - loss: 0.2298 - acc: 0.91 - ETA: 52s - loss: 0.2298 - acc: 0.91 - ETA: 51s - loss: 0.2296 - acc: 0.91 - ETA: 51s - loss: 0.2296 - acc: 0.91 - ETA: 50s - loss: 0.2297 - acc: 0.91 - ETA: 49s - loss: 0.2296 - acc: 0.91 - ETA: 49s - loss: 0.2295 - acc: 0.91 - ETA: 48s - loss: 0.2294 - acc: 0.91 - ETA: 47s - loss: 0.2294 - acc: 0.91 - ETA: 46s - loss: 0.2293 - acc: 0.91 - ETA: 46s - loss: 0.2293 - acc: 0.91 - ETA: 45s - loss: 0.2293 - acc: 0.9104"
     ]
    },
    {
     "name": "stdout",
     "output_type": "stream",
     "text": [
      "35000/35000 [==============================] - ETA: 44s - loss: 0.2294 - acc: 0.91 - ETA: 44s - loss: 0.2294 - acc: 0.91 - ETA: 43s - loss: 0.2294 - acc: 0.91 - ETA: 42s - loss: 0.2292 - acc: 0.91 - ETA: 42s - loss: 0.2292 - acc: 0.91 - ETA: 41s - loss: 0.2291 - acc: 0.91 - ETA: 40s - loss: 0.2292 - acc: 0.91 - ETA: 39s - loss: 0.2292 - acc: 0.91 - ETA: 39s - loss: 0.2292 - acc: 0.91 - ETA: 38s - loss: 0.2291 - acc: 0.91 - ETA: 37s - loss: 0.2290 - acc: 0.91 - ETA: 37s - loss: 0.2290 - acc: 0.91 - ETA: 36s - loss: 0.2290 - acc: 0.91 - ETA: 35s - loss: 0.2290 - acc: 0.91 - ETA: 35s - loss: 0.2289 - acc: 0.91 - ETA: 34s - loss: 0.2289 - acc: 0.91 - ETA: 33s - loss: 0.2288 - acc: 0.91 - ETA: 32s - loss: 0.2287 - acc: 0.91 - ETA: 32s - loss: 0.2287 - acc: 0.91 - ETA: 31s - loss: 0.2288 - acc: 0.91 - ETA: 30s - loss: 0.2287 - acc: 0.91 - ETA: 30s - loss: 0.2287 - acc: 0.91 - ETA: 29s - loss: 0.2285 - acc: 0.91 - ETA: 28s - loss: 0.2285 - acc: 0.91 - ETA: 28s - loss: 0.2285 - acc: 0.91 - ETA: 27s - loss: 0.2285 - acc: 0.91 - ETA: 26s - loss: 0.2284 - acc: 0.91 - ETA: 26s - loss: 0.2283 - acc: 0.91 - ETA: 25s - loss: 0.2284 - acc: 0.91 - ETA: 24s - loss: 0.2284 - acc: 0.91 - ETA: 23s - loss: 0.2284 - acc: 0.91 - ETA: 23s - loss: 0.2283 - acc: 0.91 - ETA: 22s - loss: 0.2283 - acc: 0.91 - ETA: 21s - loss: 0.2283 - acc: 0.91 - ETA: 21s - loss: 0.2283 - acc: 0.91 - ETA: 20s - loss: 0.2283 - acc: 0.91 - ETA: 19s - loss: 0.2283 - acc: 0.91 - ETA: 19s - loss: 0.2281 - acc: 0.91 - ETA: 18s - loss: 0.2281 - acc: 0.91 - ETA: 17s - loss: 0.2280 - acc: 0.91 - ETA: 16s - loss: 0.2279 - acc: 0.91 - ETA: 16s - loss: 0.2281 - acc: 0.91 - ETA: 15s - loss: 0.2280 - acc: 0.91 - ETA: 14s - loss: 0.2280 - acc: 0.91 - ETA: 14s - loss: 0.2280 - acc: 0.91 - ETA: 13s - loss: 0.2280 - acc: 0.91 - ETA: 12s - loss: 0.2280 - acc: 0.91 - ETA: 12s - loss: 0.2280 - acc: 0.91 - ETA: 11s - loss: 0.2281 - acc: 0.91 - ETA: 10s - loss: 0.2282 - acc: 0.91 - ETA: 10s - loss: 0.2282 - acc: 0.91 - ETA: 9s - loss: 0.2282 - acc: 0.9108 - ETA: 8s - loss: 0.2281 - acc: 0.910 - ETA: 7s - loss: 0.2281 - acc: 0.910 - ETA: 7s - loss: 0.2282 - acc: 0.910 - ETA: 6s - loss: 0.2282 - acc: 0.910 - ETA: 5s - loss: 0.2283 - acc: 0.910 - ETA: 5s - loss: 0.2282 - acc: 0.910 - ETA: 4s - loss: 0.2282 - acc: 0.910 - ETA: 3s - loss: 0.2282 - acc: 0.910 - ETA: 3s - loss: 0.2282 - acc: 0.910 - ETA: 2s - loss: 0.2282 - acc: 0.910 - ETA: 1s - loss: 0.2282 - acc: 0.910 - ETA: 0s - loss: 0.2282 - acc: 0.910 - ETA: 0s - loss: 0.2282 - acc: 0.910 - 197s - loss: 0.2282 - acc: 0.9107 - val_loss: 0.2193 - val_acc: 0.9114\n",
      "Epoch 4/4\n"
     ]
    },
    {
     "name": "stdout",
     "output_type": "stream",
     "text": [
      "26624/35000 [=====================>........] - ETA: 187s - loss: 0.2335 - acc: 0.907 - ETA: 189s - loss: 0.2253 - acc: 0.908 - ETA: 188s - loss: 0.2200 - acc: 0.911 - ETA: 187s - loss: 0.2171 - acc: 0.913 - ETA: 186s - loss: 0.2200 - acc: 0.912 - ETA: 184s - loss: 0.2268 - acc: 0.909 - ETA: 184s - loss: 0.2285 - acc: 0.907 - ETA: 183s - loss: 0.2256 - acc: 0.908 - ETA: 182s - loss: 0.2242 - acc: 0.909 - ETA: 181s - loss: 0.2248 - acc: 0.909 - ETA: 180s - loss: 0.2239 - acc: 0.909 - ETA: 180s - loss: 0.2232 - acc: 0.910 - ETA: 179s - loss: 0.2237 - acc: 0.909 - ETA: 178s - loss: 0.2226 - acc: 0.910 - ETA: 177s - loss: 0.2220 - acc: 0.911 - ETA: 177s - loss: 0.2228 - acc: 0.910 - ETA: 176s - loss: 0.2225 - acc: 0.911 - ETA: 175s - loss: 0.2239 - acc: 0.910 - ETA: 174s - loss: 0.2242 - acc: 0.910 - ETA: 174s - loss: 0.2235 - acc: 0.911 - ETA: 173s - loss: 0.2237 - acc: 0.911 - ETA: 172s - loss: 0.2243 - acc: 0.911 - ETA: 171s - loss: 0.2241 - acc: 0.911 - ETA: 171s - loss: 0.2249 - acc: 0.910 - ETA: 170s - loss: 0.2243 - acc: 0.911 - ETA: 169s - loss: 0.2242 - acc: 0.911 - ETA: 169s - loss: 0.2237 - acc: 0.911 - ETA: 168s - loss: 0.2239 - acc: 0.911 - ETA: 167s - loss: 0.2247 - acc: 0.910 - ETA: 167s - loss: 0.2248 - acc: 0.910 - ETA: 166s - loss: 0.2250 - acc: 0.910 - ETA: 166s - loss: 0.2252 - acc: 0.910 - ETA: 165s - loss: 0.2255 - acc: 0.910 - ETA: 164s - loss: 0.2248 - acc: 0.910 - ETA: 163s - loss: 0.2251 - acc: 0.910 - ETA: 163s - loss: 0.2254 - acc: 0.910 - ETA: 162s - loss: 0.2252 - acc: 0.910 - ETA: 161s - loss: 0.2252 - acc: 0.910 - ETA: 161s - loss: 0.2252 - acc: 0.910 - ETA: 160s - loss: 0.2249 - acc: 0.910 - ETA: 159s - loss: 0.2248 - acc: 0.911 - ETA: 159s - loss: 0.2243 - acc: 0.911 - ETA: 158s - loss: 0.2239 - acc: 0.911 - ETA: 157s - loss: 0.2235 - acc: 0.911 - ETA: 157s - loss: 0.2238 - acc: 0.911 - ETA: 156s - loss: 0.2235 - acc: 0.911 - ETA: 155s - loss: 0.2232 - acc: 0.911 - ETA: 154s - loss: 0.2232 - acc: 0.911 - ETA: 154s - loss: 0.2232 - acc: 0.911 - ETA: 153s - loss: 0.2231 - acc: 0.912 - ETA: 152s - loss: 0.2230 - acc: 0.912 - ETA: 152s - loss: 0.2229 - acc: 0.912 - ETA: 151s - loss: 0.2227 - acc: 0.912 - ETA: 150s - loss: 0.2226 - acc: 0.912 - ETA: 150s - loss: 0.2229 - acc: 0.912 - ETA: 149s - loss: 0.2231 - acc: 0.912 - ETA: 148s - loss: 0.2231 - acc: 0.912 - ETA: 148s - loss: 0.2229 - acc: 0.912 - ETA: 147s - loss: 0.2228 - acc: 0.912 - ETA: 146s - loss: 0.2225 - acc: 0.912 - ETA: 146s - loss: 0.2223 - acc: 0.912 - ETA: 145s - loss: 0.2224 - acc: 0.912 - ETA: 144s - loss: 0.2224 - acc: 0.912 - ETA: 144s - loss: 0.2229 - acc: 0.912 - ETA: 143s - loss: 0.2231 - acc: 0.912 - ETA: 142s - loss: 0.2230 - acc: 0.912 - ETA: 142s - loss: 0.2231 - acc: 0.912 - ETA: 141s - loss: 0.2233 - acc: 0.912 - ETA: 140s - loss: 0.2234 - acc: 0.912 - ETA: 140s - loss: 0.2233 - acc: 0.912 - ETA: 139s - loss: 0.2232 - acc: 0.912 - ETA: 138s - loss: 0.2232 - acc: 0.912 - ETA: 138s - loss: 0.2229 - acc: 0.912 - ETA: 137s - loss: 0.2229 - acc: 0.912 - ETA: 136s - loss: 0.2225 - acc: 0.912 - ETA: 135s - loss: 0.2224 - acc: 0.912 - ETA: 135s - loss: 0.2224 - acc: 0.912 - ETA: 134s - loss: 0.2226 - acc: 0.912 - ETA: 133s - loss: 0.2227 - acc: 0.912 - ETA: 133s - loss: 0.2227 - acc: 0.912 - ETA: 132s - loss: 0.2226 - acc: 0.912 - ETA: 131s - loss: 0.2222 - acc: 0.912 - ETA: 131s - loss: 0.2223 - acc: 0.912 - ETA: 130s - loss: 0.2225 - acc: 0.912 - ETA: 129s - loss: 0.2226 - acc: 0.912 - ETA: 129s - loss: 0.2229 - acc: 0.912 - ETA: 128s - loss: 0.2229 - acc: 0.912 - ETA: 127s - loss: 0.2226 - acc: 0.912 - ETA: 127s - loss: 0.2224 - acc: 0.912 - ETA: 126s - loss: 0.2225 - acc: 0.912 - ETA: 125s - loss: 0.2224 - acc: 0.912 - ETA: 125s - loss: 0.2227 - acc: 0.912 - ETA: 124s - loss: 0.2226 - acc: 0.912 - ETA: 123s - loss: 0.2227 - acc: 0.912 - ETA: 123s - loss: 0.2226 - acc: 0.912 - ETA: 122s - loss: 0.2226 - acc: 0.912 - ETA: 121s - loss: 0.2227 - acc: 0.912 - ETA: 120s - loss: 0.2227 - acc: 0.912 - ETA: 120s - loss: 0.2230 - acc: 0.912 - ETA: 119s - loss: 0.2230 - acc: 0.912 - ETA: 118s - loss: 0.2231 - acc: 0.912 - ETA: 118s - loss: 0.2232 - acc: 0.912 - ETA: 117s - loss: 0.2231 - acc: 0.912 - ETA: 116s - loss: 0.2230 - acc: 0.912 - ETA: 116s - loss: 0.2228 - acc: 0.912 - ETA: 115s - loss: 0.2227 - acc: 0.912 - ETA: 114s - loss: 0.2228 - acc: 0.912 - ETA: 114s - loss: 0.2228 - acc: 0.912 - ETA: 113s - loss: 0.2228 - acc: 0.912 - ETA: 112s - loss: 0.2230 - acc: 0.912 - ETA: 111s - loss: 0.2228 - acc: 0.912 - ETA: 111s - loss: 0.2229 - acc: 0.912 - ETA: 110s - loss: 0.2228 - acc: 0.912 - ETA: 109s - loss: 0.2230 - acc: 0.912 - ETA: 109s - loss: 0.2230 - acc: 0.912 - ETA: 108s - loss: 0.2231 - acc: 0.912 - ETA: 107s - loss: 0.2229 - acc: 0.912 - ETA: 107s - loss: 0.2229 - acc: 0.912 - ETA: 106s - loss: 0.2230 - acc: 0.912 - ETA: 105s - loss: 0.2227 - acc: 0.912 - ETA: 105s - loss: 0.2228 - acc: 0.912 - ETA: 104s - loss: 0.2230 - acc: 0.912 - ETA: 103s - loss: 0.2231 - acc: 0.912 - ETA: 103s - loss: 0.2232 - acc: 0.912 - ETA: 102s - loss: 0.2232 - acc: 0.912 - ETA: 101s - loss: 0.2232 - acc: 0.912 - ETA: 100s - loss: 0.2229 - acc: 0.912 - ETA: 100s - loss: 0.2230 - acc: 0.912 - ETA: 99s - loss: 0.2230 - acc: 0.912 - ETA: 98s - loss: 0.2231 - acc: 0.91 - ETA: 98s - loss: 0.2232 - acc: 0.91 - ETA: 97s - loss: 0.2232 - acc: 0.91 - ETA: 96s - loss: 0.2232 - acc: 0.91 - ETA: 96s - loss: 0.2230 - acc: 0.91 - ETA: 95s - loss: 0.2229 - acc: 0.91 - ETA: 94s - loss: 0.2229 - acc: 0.91 - ETA: 94s - loss: 0.2229 - acc: 0.91 - ETA: 93s - loss: 0.2228 - acc: 0.91 - ETA: 92s - loss: 0.2226 - acc: 0.91 - ETA: 92s - loss: 0.2225 - acc: 0.91 - ETA: 91s - loss: 0.2225 - acc: 0.91 - ETA: 90s - loss: 0.2225 - acc: 0.91 - ETA: 90s - loss: 0.2224 - acc: 0.91 - ETA: 89s - loss: 0.2225 - acc: 0.91 - ETA: 88s - loss: 0.2226 - acc: 0.91 - ETA: 87s - loss: 0.2225 - acc: 0.91 - ETA: 87s - loss: 0.2223 - acc: 0.91 - ETA: 86s - loss: 0.2223 - acc: 0.91 - ETA: 85s - loss: 0.2224 - acc: 0.91 - ETA: 85s - loss: 0.2225 - acc: 0.91 - ETA: 84s - loss: 0.2227 - acc: 0.91 - ETA: 83s - loss: 0.2226 - acc: 0.91 - ETA: 83s - loss: 0.2223 - acc: 0.91 - ETA: 82s - loss: 0.2224 - acc: 0.91 - ETA: 81s - loss: 0.2224 - acc: 0.91 - ETA: 81s - loss: 0.2224 - acc: 0.91 - ETA: 80s - loss: 0.2223 - acc: 0.91 - ETA: 79s - loss: 0.2224 - acc: 0.91 - ETA: 78s - loss: 0.2224 - acc: 0.91 - ETA: 78s - loss: 0.2224 - acc: 0.91 - ETA: 77s - loss: 0.2224 - acc: 0.91 - ETA: 76s - loss: 0.2225 - acc: 0.91 - ETA: 76s - loss: 0.2224 - acc: 0.91 - ETA: 75s - loss: 0.2224 - acc: 0.91 - ETA: 74s - loss: 0.2225 - acc: 0.91 - ETA: 74s - loss: 0.2226 - acc: 0.91 - ETA: 73s - loss: 0.2225 - acc: 0.91 - ETA: 72s - loss: 0.2227 - acc: 0.91 - ETA: 72s - loss: 0.2227 - acc: 0.91 - ETA: 71s - loss: 0.2228 - acc: 0.91 - ETA: 70s - loss: 0.2228 - acc: 0.91 - ETA: 70s - loss: 0.2230 - acc: 0.91 - ETA: 69s - loss: 0.2230 - acc: 0.91 - ETA: 68s - loss: 0.2230 - acc: 0.91 - ETA: 68s - loss: 0.2230 - acc: 0.91 - ETA: 67s - loss: 0.2230 - acc: 0.91 - ETA: 66s - loss: 0.2231 - acc: 0.91 - ETA: 66s - loss: 0.2230 - acc: 0.91 - ETA: 65s - loss: 0.2230 - acc: 0.91 - ETA: 64s - loss: 0.2229 - acc: 0.91 - ETA: 63s - loss: 0.2230 - acc: 0.91 - ETA: 63s - loss: 0.2231 - acc: 0.91 - ETA: 62s - loss: 0.2231 - acc: 0.91 - ETA: 61s - loss: 0.2231 - acc: 0.91 - ETA: 61s - loss: 0.2232 - acc: 0.91 - ETA: 60s - loss: 0.2234 - acc: 0.91 - ETA: 59s - loss: 0.2235 - acc: 0.91 - ETA: 59s - loss: 0.2234 - acc: 0.91 - ETA: 58s - loss: 0.2234 - acc: 0.91 - ETA: 57s - loss: 0.2235 - acc: 0.91 - ETA: 57s - loss: 0.2235 - acc: 0.91 - ETA: 56s - loss: 0.2234 - acc: 0.91 - ETA: 55s - loss: 0.2235 - acc: 0.91 - ETA: 55s - loss: 0.2236 - acc: 0.91 - ETA: 54s - loss: 0.2235 - acc: 0.91 - ETA: 53s - loss: 0.2235 - acc: 0.91 - ETA: 53s - loss: 0.2235 - acc: 0.91 - ETA: 52s - loss: 0.2235 - acc: 0.91 - ETA: 51s - loss: 0.2236 - acc: 0.91 - ETA: 50s - loss: 0.2237 - acc: 0.91 - ETA: 50s - loss: 0.2237 - acc: 0.91 - ETA: 49s - loss: 0.2239 - acc: 0.91 - ETA: 48s - loss: 0.2238 - acc: 0.91 - ETA: 48s - loss: 0.2238 - acc: 0.91 - ETA: 47s - loss: 0.2240 - acc: 0.91 - ETA: 46s - loss: 0.2240 - acc: 0.91 - ETA: 46s - loss: 0.2240 - acc: 0.91 - ETA: 45s - loss: 0.2239 - acc: 0.9116"
     ]
    },
    {
     "name": "stdout",
     "output_type": "stream",
     "text": [
      "35000/35000 [==============================] - ETA: 44s - loss: 0.2239 - acc: 0.91 - ETA: 44s - loss: 0.2239 - acc: 0.91 - ETA: 43s - loss: 0.2240 - acc: 0.91 - ETA: 42s - loss: 0.2241 - acc: 0.91 - ETA: 41s - loss: 0.2241 - acc: 0.91 - ETA: 41s - loss: 0.2240 - acc: 0.91 - ETA: 40s - loss: 0.2240 - acc: 0.91 - ETA: 39s - loss: 0.2241 - acc: 0.91 - ETA: 39s - loss: 0.2241 - acc: 0.91 - ETA: 38s - loss: 0.2242 - acc: 0.91 - ETA: 37s - loss: 0.2242 - acc: 0.91 - ETA: 37s - loss: 0.2243 - acc: 0.91 - ETA: 36s - loss: 0.2242 - acc: 0.91 - ETA: 35s - loss: 0.2241 - acc: 0.91 - ETA: 35s - loss: 0.2241 - acc: 0.91 - ETA: 34s - loss: 0.2241 - acc: 0.91 - ETA: 33s - loss: 0.2240 - acc: 0.91 - ETA: 32s - loss: 0.2241 - acc: 0.91 - ETA: 32s - loss: 0.2241 - acc: 0.91 - ETA: 31s - loss: 0.2241 - acc: 0.91 - ETA: 30s - loss: 0.2241 - acc: 0.91 - ETA: 30s - loss: 0.2240 - acc: 0.91 - ETA: 29s - loss: 0.2241 - acc: 0.91 - ETA: 28s - loss: 0.2241 - acc: 0.91 - ETA: 28s - loss: 0.2240 - acc: 0.91 - ETA: 27s - loss: 0.2240 - acc: 0.91 - ETA: 26s - loss: 0.2241 - acc: 0.91 - ETA: 25s - loss: 0.2240 - acc: 0.91 - ETA: 25s - loss: 0.2240 - acc: 0.91 - ETA: 24s - loss: 0.2240 - acc: 0.91 - ETA: 23s - loss: 0.2240 - acc: 0.91 - ETA: 23s - loss: 0.2241 - acc: 0.91 - ETA: 22s - loss: 0.2241 - acc: 0.91 - ETA: 21s - loss: 0.2242 - acc: 0.91 - ETA: 21s - loss: 0.2244 - acc: 0.91 - ETA: 20s - loss: 0.2243 - acc: 0.91 - ETA: 19s - loss: 0.2242 - acc: 0.91 - ETA: 19s - loss: 0.2242 - acc: 0.91 - ETA: 18s - loss: 0.2242 - acc: 0.91 - ETA: 17s - loss: 0.2242 - acc: 0.91 - ETA: 16s - loss: 0.2241 - acc: 0.91 - ETA: 16s - loss: 0.2242 - acc: 0.91 - ETA: 15s - loss: 0.2242 - acc: 0.91 - ETA: 14s - loss: 0.2242 - acc: 0.91 - ETA: 14s - loss: 0.2242 - acc: 0.91 - ETA: 13s - loss: 0.2241 - acc: 0.91 - ETA: 12s - loss: 0.2242 - acc: 0.91 - ETA: 12s - loss: 0.2241 - acc: 0.91 - ETA: 11s - loss: 0.2241 - acc: 0.91 - ETA: 10s - loss: 0.2242 - acc: 0.91 - ETA: 10s - loss: 0.2241 - acc: 0.91 - ETA: 9s - loss: 0.2240 - acc: 0.9115 - ETA: 8s - loss: 0.2240 - acc: 0.911 - ETA: 7s - loss: 0.2240 - acc: 0.911 - ETA: 7s - loss: 0.2240 - acc: 0.911 - ETA: 6s - loss: 0.2241 - acc: 0.911 - ETA: 5s - loss: 0.2241 - acc: 0.911 - ETA: 5s - loss: 0.2241 - acc: 0.911 - ETA: 4s - loss: 0.2242 - acc: 0.911 - ETA: 3s - loss: 0.2242 - acc: 0.911 - ETA: 3s - loss: 0.2243 - acc: 0.911 - ETA: 2s - loss: 0.2243 - acc: 0.911 - ETA: 1s - loss: 0.2243 - acc: 0.911 - ETA: 1s - loss: 0.2244 - acc: 0.911 - ETA: 0s - loss: 0.2244 - acc: 0.911 - 200s - loss: 0.2244 - acc: 0.9113 - val_loss: 0.2174 - val_acc: 0.9124\n"
     ]
    },
    {
     "data": {
      "text/plain": [
       "<keras.callbacks.History at 0x19c004a84a8>"
      ]
     },
     "execution_count": 21,
     "metadata": {},
     "output_type": "execute_result"
    }
   ],
   "source": [
    "model.fit(x_train, y_train,\n",
    "         batch_size = 128,\n",
    "         epochs=4,\n",
    "         verbose=1,\n",
    "         validation_data=(x_valid, y_valid))"
   ]
  },
  {
   "cell_type": "code",
   "execution_count": 24,
   "metadata": {},
   "outputs": [
    {
     "name": "stdout",
     "output_type": "stream",
     "text": [
      "[[0 0 1 ..., 0 0 0]\n",
      " [0 0 0 ..., 1 0 1]\n",
      " [0 0 0 ..., 1 1 0]\n",
      " ..., \n",
      " [0 0 0 ..., 1 0 0]\n",
      " [0 0 0 ..., 1 0 1]\n",
      " [0 0 0 ..., 0 0 0]]\n",
      "[[  8.20117909e-03   4.03543375e-03   8.69457498e-02 ...,   6.54226363e-01\n",
      "    2.40752459e-01   3.08648229e-01]\n",
      " [  4.19090129e-03   1.11482702e-02   1.18649388e-02 ...,   7.87089944e-01\n",
      "    2.06205994e-01   2.26673573e-01]\n",
      " [  3.02142487e-03   1.13697024e-02   4.86900238e-03 ...,   8.18985045e-01\n",
      "    1.98517367e-01   1.90463945e-01]\n",
      " ..., \n",
      " [  2.78165378e-03   1.14914542e-02   3.82701890e-03 ...,   8.61352980e-01\n",
      "    1.70798138e-01   1.53208956e-01]\n",
      " [  1.42354676e-02   3.89200752e-04   2.47151256e-01 ...,   4.01416242e-01\n",
      "    2.87811905e-01   3.23900014e-01]\n",
      " [  4.98308055e-03   1.17009804e-02   1.88854653e-02 ...,   7.52382159e-01\n",
      "    2.25548714e-01   2.54648179e-01]]\n",
      "0.768860234138\n"
     ]
    }
   ],
   "source": [
    "from sklearn.metrics import fbeta_score\n",
    "p_valid = model.predict(x_valid, batch_size=128)\n",
    "print(y_valid)\n",
    "print(p_valid)\n",
    "print(fbeta_score(y_valid, np.array(p_valid) >0.2, beta=2, average = 'samples'))\n",
    "\n",
    "\n",
    "\n",
    "\n"
   ]
  },
  {
   "cell_type": "code",
   "execution_count": null,
   "metadata": {
    "collapsed": true
   },
   "outputs": [],
   "source": []
  }
 ],
 "metadata": {
  "kernelspec": {
   "display_name": "Python 3",
   "language": "python",
   "name": "python3"
  },
  "language_info": {
   "codemirror_mode": {
    "name": "ipython",
    "version": 3
   },
   "file_extension": ".py",
   "mimetype": "text/x-python",
   "name": "python",
   "nbconvert_exporter": "python",
   "pygments_lexer": "ipython3",
   "version": "3.5.3"
  }
 },
 "nbformat": 4,
 "nbformat_minor": 2
}
