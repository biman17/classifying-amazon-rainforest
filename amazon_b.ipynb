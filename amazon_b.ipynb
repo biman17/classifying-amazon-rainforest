{
 "cells": [
  {
   "cell_type": "code",
   "execution_count": 18,
   "metadata": {},
   "outputs": [
    {
     "data": {
      "text/html": [
       "<script>requirejs.config({paths: { 'plotly': ['https://cdn.plot.ly/plotly-latest.min']},});if(!window.Plotly) {{require(['plotly'],function(plotly) {window.Plotly=plotly;});}}</script>"
      ],
      "text/vnd.plotly.v1+html": [
       "<script>requirejs.config({paths: { 'plotly': ['https://cdn.plot.ly/plotly-latest.min']},});if(!window.Plotly) {{require(['plotly'],function(plotly) {window.Plotly=plotly;});}}</script>"
      ]
     },
     "metadata": {},
     "output_type": "display_data"
    }
   ],
   "source": [
    "import numpy as np # linear algebra\n",
    "import pandas as pd # data processing, CSV file I/O (e.g. pd.read_csv)\n",
    "import os\n",
    "import gc\n",
    "import matplotlib.pyplot as plt\n",
    "import seaborn as sns\n",
    "%matplotlib inline\n",
    "\n",
    "pal = sns.color_palette()\n",
    "\n",
    "import plotly.offline as py\n",
    "py.init_notebook_mode(connected=True)\n",
    "import plotly.graph_objs as go\n",
    "import plotly.tools as tls\n",
    "\n",
    "# print('# File sizes')\n",
    "# for f in os.listdir('input'):\n",
    "#     if not os.path.isdir('input'+ f):\n",
    "#         print(f.ljust(30) + str(round(os.path.getsize('input' + f) / 1000000, 2)) + 'MB')\n",
    "#     else:\n",
    "#         sizes = [os.path.getsize('input'+f+'/'+x)/1000000 for x in os.listdir('input' + f)]\n",
    "#         print(f.ljust(30) + str(round(sum(sizes), 2)) + 'MB' + ' ({} files)'.format(len(sizes)))\n",
    "        \n",
    "        "
   ]
  },
  {
   "cell_type": "code",
   "execution_count": 19,
   "metadata": {},
   "outputs": [
    {
     "data": {
      "text/html": [
       "<div>\n",
       "<style>\n",
       "    .dataframe thead tr:only-child th {\n",
       "        text-align: right;\n",
       "    }\n",
       "\n",
       "    .dataframe thead th {\n",
       "        text-align: left;\n",
       "    }\n",
       "\n",
       "    .dataframe tbody tr th {\n",
       "        vertical-align: top;\n",
       "    }\n",
       "</style>\n",
       "<table border=\"1\" class=\"dataframe\">\n",
       "  <thead>\n",
       "    <tr style=\"text-align: right;\">\n",
       "      <th></th>\n",
       "      <th>image_name</th>\n",
       "      <th>tags</th>\n",
       "    </tr>\n",
       "  </thead>\n",
       "  <tbody>\n",
       "    <tr>\n",
       "      <th>0</th>\n",
       "      <td>train_0</td>\n",
       "      <td>haze primary</td>\n",
       "    </tr>\n",
       "    <tr>\n",
       "      <th>1</th>\n",
       "      <td>train_1</td>\n",
       "      <td>agriculture clear primary water</td>\n",
       "    </tr>\n",
       "    <tr>\n",
       "      <th>2</th>\n",
       "      <td>train_2</td>\n",
       "      <td>clear primary</td>\n",
       "    </tr>\n",
       "    <tr>\n",
       "      <th>3</th>\n",
       "      <td>train_3</td>\n",
       "      <td>clear primary</td>\n",
       "    </tr>\n",
       "    <tr>\n",
       "      <th>4</th>\n",
       "      <td>train_4</td>\n",
       "      <td>agriculture clear habitation primary road</td>\n",
       "    </tr>\n",
       "  </tbody>\n",
       "</table>\n",
       "</div>"
      ],
      "text/plain": [
       "  image_name                                       tags\n",
       "0    train_0                               haze primary\n",
       "1    train_1            agriculture clear primary water\n",
       "2    train_2                              clear primary\n",
       "3    train_3                              clear primary\n",
       "4    train_4  agriculture clear habitation primary road"
      ]
     },
     "execution_count": 19,
     "metadata": {},
     "output_type": "execute_result"
    }
   ],
   "source": [
    "##Training data\n",
    "\n",
    "df_train = pd.read_csv('input/train.csv')\n",
    "df_train.head()\n"
   ]
  },
  {
   "cell_type": "code",
   "execution_count": 20,
   "metadata": {},
   "outputs": [
    {
     "data": {
      "application/vnd.plotly.v1+json": {
       "data": [
        {
         "type": "bar",
         "x": [
          "slash_burn",
          "blooming",
          "selective_logging",
          "blow_down",
          "artisinal_mine",
          "habitation",
          "road",
          "cloudy",
          "primary",
          "clear",
          "conventional_mine",
          "partly_cloudy",
          "water",
          "agriculture",
          "bare_ground",
          "haze",
          "cultivation"
         ],
         "y": [
          209,
          332,
          340,
          101,
          339,
          3660,
          8071,
          2089,
          37513,
          28431,
          100,
          7261,
          7411,
          12315,
          862,
          2697,
          4547
         ]
        }
       ],
       "layout": {}
      },
      "text/html": [
       "<div id=\"d7a0d920-72c6-4acb-901a-b0972f894f00\" style=\"height: 525px; width: 100%;\" class=\"plotly-graph-div\"></div><script type=\"text/javascript\">require([\"plotly\"], function(Plotly) { window.PLOTLYENV=window.PLOTLYENV || {};window.PLOTLYENV.BASE_URL=\"https://plot.ly\";Plotly.newPlot(\"d7a0d920-72c6-4acb-901a-b0972f894f00\", [{\"x\": [\"slash_burn\", \"blooming\", \"selective_logging\", \"blow_down\", \"artisinal_mine\", \"habitation\", \"road\", \"cloudy\", \"primary\", \"clear\", \"conventional_mine\", \"partly_cloudy\", \"water\", \"agriculture\", \"bare_ground\", \"haze\", \"cultivation\"], \"type\": \"bar\", \"y\": [209, 332, 340, 101, 339, 3660, 8071, 2089, 37513, 28431, 100, 7261, 7411, 12315, 862, 2697, 4547]}], {}, {\"showLink\": true, \"linkText\": \"Export to plot.ly\"})});</script>"
      ],
      "text/vnd.plotly.v1+html": [
       "<div id=\"d7a0d920-72c6-4acb-901a-b0972f894f00\" style=\"height: 525px; width: 100%;\" class=\"plotly-graph-div\"></div><script type=\"text/javascript\">require([\"plotly\"], function(Plotly) { window.PLOTLYENV=window.PLOTLYENV || {};window.PLOTLYENV.BASE_URL=\"https://plot.ly\";Plotly.newPlot(\"d7a0d920-72c6-4acb-901a-b0972f894f00\", [{\"x\": [\"slash_burn\", \"blooming\", \"selective_logging\", \"blow_down\", \"artisinal_mine\", \"habitation\", \"road\", \"cloudy\", \"primary\", \"clear\", \"conventional_mine\", \"partly_cloudy\", \"water\", \"agriculture\", \"bare_ground\", \"haze\", \"cultivation\"], \"type\": \"bar\", \"y\": [209, 332, 340, 101, 339, 3660, 8071, 2089, 37513, 28431, 100, 7261, 7411, 12315, 862, 2697, 4547]}], {}, {\"showLink\": true, \"linkText\": \"Export to plot.ly\"})});</script>"
      ]
     },
     "metadata": {},
     "output_type": "display_data"
    }
   ],
   "source": [
    "labels = df_train['tags'].apply(lambda x: x.split(' '))\n",
    "\n",
    "from collections import Counter, defaultdict\n",
    "counts = defaultdict(int)\n",
    "for l in labels:\n",
    "    for l2 in l:\n",
    "        counts[l2] += 1\n",
    "data = [go.Bar(x= list(counts.keys()), y = list(counts.values()))]\n",
    "layout = dict(height = 800, width = 800, title = 'Distribution of training labels')\n",
    "fig = dict(data = data, layout = layout)\n",
    "py.iplot(data, filename = 'train-label-dist')"
   ]
  },
  {
   "cell_type": "code",
   "execution_count": 23,
   "metadata": {},
   "outputs": [
    {
     "data": {
      "application/vnd.plotly.v1+json": {
       "data": [
        {
         "type": "heatmap",
         "x": [
          "slash_burn",
          "blooming",
          "selective_logging",
          "blow_down",
          "artisinal_mine",
          "habitation",
          "road",
          "cloudy",
          "primary",
          "clear",
          "conventional_mine",
          "partly_cloudy",
          "water",
          "agriculture",
          "bare_ground",
          "haze",
          "cultivation"
         ],
         "y": [
          "slash_burn",
          "blooming",
          "selective_logging",
          "blow_down",
          "artisinal_mine",
          "habitation",
          "road",
          "cloudy",
          "primary",
          "clear",
          "conventional_mine",
          "partly_cloudy",
          "water",
          "agriculture",
          "bare_ground",
          "haze",
          "cultivation"
         ],
         "z": [
          [
           1,
           0.009569377990430622,
           0.009569377990430622,
           0.009569377990430622,
           0,
           0.19617224880382775,
           0.1722488038277512,
           0,
           1,
           0.8277511961722488,
           0,
           0.15789473684210525,
           0.11483253588516747,
           0.569377990430622,
           0.04784688995215311,
           0.014354066985645933,
           0.6028708133971292
          ],
          [
           0.006024096385542169,
           1,
           0.02108433734939759,
           0.0030120481927710845,
           0,
           0.012048192771084338,
           0.030120481927710843,
           0,
           1,
           0.9367469879518072,
           0,
           0.05120481927710843,
           0.04819277108433735,
           0.0963855421686747,
           0.009036144578313253,
           0.012048192771084338,
           0.10542168674698796
          ],
          [
           0.0058823529411764705,
           0.020588235294117647,
           1,
           0.0029411764705882353,
           0.01764705882352941,
           0.03823529411764706,
           0.4441176470588235,
           0,
           1,
           0.9058823529411765,
           0,
           0.07941176470588235,
           0.14411764705882352,
           0.19117647058823528,
           0.03823529411764706,
           0.014705882352941176,
           0.17058823529411765
          ],
          [
           0.02040816326530612,
           0.01020408163265306,
           0.01020408163265306,
           1,
           0,
           0.030612244897959183,
           0.02040816326530612,
           0,
           1,
           0.8673469387755102,
           0,
           0.1326530612244898,
           0.030612244897959183,
           0.22448979591836735,
           0.04081632653061224,
           0,
           0.08163265306122448
          ],
          [
           0,
           0,
           0.017699115044247787,
           0,
           1,
           0.0855457227138643,
           0.32448377581120946,
           0,
           0.9557522123893806,
           0.9056047197640118,
           0.011799410029498525,
           0.07964601769911504,
           0.8820058997050148,
           0.11209439528023599,
           0.11799410029498525,
           0.014749262536873156,
           0.05309734513274336
          ],
          [
           0.011202185792349727,
           0.001092896174863388,
           0.003551912568306011,
           0.000819672131147541,
           0.007923497267759563,
           1,
           0.7612021857923498,
           0,
           0.9478142076502732,
           0.8442622950819673,
           0.009836065573770493,
           0.12049180327868853,
           0.25,
           0.7478142076502732,
           0.04453551912568306,
           0.03524590163934426,
           0.24453551912568305
          ],
          [
           0.0044604138272828645,
           0.0012390038409119068,
           0.018708957997769792,
           0.00024780076818238137,
           0.013629042250030974,
           0.34518647007805725,
           1,
           0,
           0.9575021682567216,
           0.7799529178540453,
           0.0073101226613802505,
           0.17123033081402553,
           0.2632883161937802,
           0.7476149176062445,
           0.040019824061454594,
           0.04881675133192913,
           0.16032709701400075
          ],
          [
           0,
           0,
           0,
           0,
           0,
           0,
           0,
           1,
           0,
           0,
           0,
           0,
           0,
           0,
           0,
           0,
           0
          ],
          [
           0.005571401914003146,
           0.008850265241382988,
           0.009063524644789807,
           0.0026124276917335325,
           0.008637005837976169,
           0.09247460880228188,
           0.20600858369098712,
           0,
           1,
           0.7375576466824834,
           0.0025057979900301227,
           0.19126702743049076,
           0.18662863540639246,
           0.31914269719830457,
           0.01820702156585717,
           0.07117532588702583,
           0.11875883027217231
          ],
          [
           0.006084907319475221,
           0.010938764025183779,
           0.010833245401146635,
           0.002989694347719039,
           0.010798072526467589,
           0.10868418275825684,
           0.22141324610460414,
           0,
           0.9731630966198868,
           1,
           0.0024621012275333263,
           0,
           0.19352115648411944,
           0.3218318033132848,
           0.026274137385248496,
           0,
           0.1240547289930006
          ],
          [
           0,
           0,
           0,
           0,
           0.04,
           0.36,
           0.59,
           0,
           0.94,
           0.7,
           1,
           0.28,
           0.26,
           0.24,
           0.1,
           0.02,
           0.04
          ],
          [
           0.004544828536014323,
           0.002341275306431621,
           0.00371849607492081,
           0.0017903869990359455,
           0.00371849607492081,
           0.060735435890373224,
           0.1903319102052059,
           0,
           0.988155901390993,
           0,
           0.0038562181517697285,
           1,
           0.17835008951934994,
           0.34334113758435475,
           0.010191433686819996,
           0,
           0.10301611348299132
          ],
          [
           0.0032384293617595465,
           0.002158952907839698,
           0.006611793280259074,
           0.0004048036702199433,
           0.04034543246525435,
           0.12346511941708271,
           0.28673593307245987,
           0,
           0.9446768317366078,
           0.7424099311833761,
           0.0035082984752395087,
           0.17474025097827553,
           1,
           0.36594251787882875,
           0.02779651868843611,
           0.08271488328160842,
           0.1171231952503036
          ],
          [
           0.009663012586276899,
           0.002598457166057653,
           0.005278116118554608,
           0.0017864393016646365,
           0.0030856678846934633,
           0.22224928948436865,
           0.4899715793747462,
           0,
           0.9721477872513196,
           0.7429963459196103,
           0.00194884287454324,
           0.20243605359317904,
           0.22021924482338612,
           1,
           0.018270401948842874,
           0.05456760048721072,
           0.2742184328055217
          ],
          [
           0.01160092807424594,
           0.0034802784222737818,
           0.015081206496519721,
           0.004640371229698376,
           0.04640371229698376,
           0.18909512761020883,
           0.37470997679814383,
           0,
           0.7923433874709976,
           0.8665893271461717,
           0.01160092807424594,
           0.08584686774941995,
           0.23897911832946636,
           0.26102088167053367,
           1,
           0.04756380510440835,
           0.10324825986078887
          ],
          [
           0.0011123470522803114,
           0.0014831294030404152,
           0.0018539117538005192,
           0,
           0.0018539117538005192,
           0.047830923248053395,
           0.1460882461994809,
           0,
           0.9899888765294772,
           0,
           0.0007415647015202076,
           0,
           0.22728958101594365,
           0.24916573971078976,
           0.015202076381164257,
           1,
           0.07489803485354098
          ],
          [
           0.028143846325664506,
           0.007817735090462363,
           0.012955103864194774,
           0.0017869108778199687,
           0.0040205494750949295,
           0.199910654456109,
           0.28903283448737993,
           0,
           0.995085995085995,
           0.7878043332588787,
           0.0008934554389099843,
           0.16707616707616707,
           0.1938798302434666,
           0.7542997542997543,
           0.019879383515747154,
           0.04511949966495421,
           1
          ]
         ]
        }
       ],
       "layout": {}
      },
      "text/html": [
       "<div id=\"733b21bd-d926-430f-add0-0c4f6f4f50f7\" style=\"height: 525px; width: 100%;\" class=\"plotly-graph-div\"></div><script type=\"text/javascript\">require([\"plotly\"], function(Plotly) { window.PLOTLYENV=window.PLOTLYENV || {};window.PLOTLYENV.BASE_URL=\"https://plot.ly\";Plotly.newPlot(\"733b21bd-d926-430f-add0-0c4f6f4f50f7\", [{\"x\": [\"slash_burn\", \"blooming\", \"selective_logging\", \"blow_down\", \"artisinal_mine\", \"habitation\", \"road\", \"cloudy\", \"primary\", \"clear\", \"conventional_mine\", \"partly_cloudy\", \"water\", \"agriculture\", \"bare_ground\", \"haze\", \"cultivation\"], \"type\": \"heatmap\", \"y\": [\"slash_burn\", \"blooming\", \"selective_logging\", \"blow_down\", \"artisinal_mine\", \"habitation\", \"road\", \"cloudy\", \"primary\", \"clear\", \"conventional_mine\", \"partly_cloudy\", \"water\", \"agriculture\", \"bare_ground\", \"haze\", \"cultivation\"], \"z\": [[1.0, 0.009569377990430622, 0.009569377990430622, 0.009569377990430622, 0.0, 0.19617224880382775, 0.1722488038277512, 0.0, 1.0, 0.8277511961722488, 0.0, 0.15789473684210525, 0.11483253588516747, 0.569377990430622, 0.04784688995215311, 0.014354066985645933, 0.6028708133971292], [0.006024096385542169, 1.0, 0.02108433734939759, 0.0030120481927710845, 0.0, 0.012048192771084338, 0.030120481927710843, 0.0, 1.0, 0.9367469879518072, 0.0, 0.05120481927710843, 0.04819277108433735, 0.0963855421686747, 0.009036144578313253, 0.012048192771084338, 0.10542168674698796], [0.0058823529411764705, 0.020588235294117647, 1.0, 0.0029411764705882353, 0.01764705882352941, 0.03823529411764706, 0.4441176470588235, 0.0, 1.0, 0.9058823529411765, 0.0, 0.07941176470588235, 0.14411764705882352, 0.19117647058823528, 0.03823529411764706, 0.014705882352941176, 0.17058823529411765], [0.02040816326530612, 0.01020408163265306, 0.01020408163265306, 1.0, 0.0, 0.030612244897959183, 0.02040816326530612, 0.0, 1.0, 0.8673469387755102, 0.0, 0.1326530612244898, 0.030612244897959183, 0.22448979591836735, 0.04081632653061224, 0.0, 0.08163265306122448], [0.0, 0.0, 0.017699115044247787, 0.0, 1.0, 0.0855457227138643, 0.32448377581120946, 0.0, 0.9557522123893806, 0.9056047197640118, 0.011799410029498525, 0.07964601769911504, 0.8820058997050148, 0.11209439528023599, 0.11799410029498525, 0.014749262536873156, 0.05309734513274336], [0.011202185792349727, 0.001092896174863388, 0.003551912568306011, 0.000819672131147541, 0.007923497267759563, 1.0, 0.7612021857923498, 0.0, 0.9478142076502732, 0.8442622950819673, 0.009836065573770493, 0.12049180327868853, 0.25, 0.7478142076502732, 0.04453551912568306, 0.03524590163934426, 0.24453551912568305], [0.0044604138272828645, 0.0012390038409119068, 0.018708957997769792, 0.00024780076818238137, 0.013629042250030974, 0.34518647007805725, 1.0, 0.0, 0.9575021682567216, 0.7799529178540453, 0.0073101226613802505, 0.17123033081402553, 0.2632883161937802, 0.7476149176062445, 0.040019824061454594, 0.04881675133192913, 0.16032709701400075], [0.0, 0.0, 0.0, 0.0, 0.0, 0.0, 0.0, 1.0, 0.0, 0.0, 0.0, 0.0, 0.0, 0.0, 0.0, 0.0, 0.0], [0.005571401914003146, 0.008850265241382988, 0.009063524644789807, 0.0026124276917335325, 0.008637005837976169, 0.09247460880228188, 0.20600858369098712, 0.0, 1.0, 0.7375576466824834, 0.0025057979900301227, 0.19126702743049076, 0.18662863540639246, 0.31914269719830457, 0.01820702156585717, 0.07117532588702583, 0.11875883027217231], [0.006084907319475221, 0.010938764025183779, 0.010833245401146635, 0.002989694347719039, 0.010798072526467589, 0.10868418275825684, 0.22141324610460414, 0.0, 0.9731630966198868, 1.0, 0.0024621012275333263, 0.0, 0.19352115648411944, 0.3218318033132848, 0.026274137385248496, 0.0, 0.1240547289930006], [0.0, 0.0, 0.0, 0.0, 0.04, 0.36, 0.59, 0.0, 0.94, 0.7, 1.0, 0.28, 0.26, 0.24, 0.1, 0.02, 0.04], [0.004544828536014323, 0.002341275306431621, 0.00371849607492081, 0.0017903869990359455, 0.00371849607492081, 0.060735435890373224, 0.1903319102052059, 0.0, 0.988155901390993, 0.0, 0.0038562181517697285, 1.0, 0.17835008951934994, 0.34334113758435475, 0.010191433686819996, 0.0, 0.10301611348299132], [0.0032384293617595465, 0.002158952907839698, 0.006611793280259074, 0.0004048036702199433, 0.04034543246525435, 0.12346511941708271, 0.28673593307245987, 0.0, 0.9446768317366078, 0.7424099311833761, 0.0035082984752395087, 0.17474025097827553, 1.0, 0.36594251787882875, 0.02779651868843611, 0.08271488328160842, 0.1171231952503036], [0.009663012586276899, 0.002598457166057653, 0.005278116118554608, 0.0017864393016646365, 0.0030856678846934633, 0.22224928948436865, 0.4899715793747462, 0.0, 0.9721477872513196, 0.7429963459196103, 0.00194884287454324, 0.20243605359317904, 0.22021924482338612, 1.0, 0.018270401948842874, 0.05456760048721072, 0.2742184328055217], [0.01160092807424594, 0.0034802784222737818, 0.015081206496519721, 0.004640371229698376, 0.04640371229698376, 0.18909512761020883, 0.37470997679814383, 0.0, 0.7923433874709976, 0.8665893271461717, 0.01160092807424594, 0.08584686774941995, 0.23897911832946636, 0.26102088167053367, 1.0, 0.04756380510440835, 0.10324825986078887], [0.0011123470522803114, 0.0014831294030404152, 0.0018539117538005192, 0.0, 0.0018539117538005192, 0.047830923248053395, 0.1460882461994809, 0.0, 0.9899888765294772, 0.0, 0.0007415647015202076, 0.0, 0.22728958101594365, 0.24916573971078976, 0.015202076381164257, 1.0, 0.07489803485354098], [0.028143846325664506, 0.007817735090462363, 0.012955103864194774, 0.0017869108778199687, 0.0040205494750949295, 0.199910654456109, 0.28903283448737993, 0.0, 0.995085995085995, 0.7878043332588787, 0.0008934554389099843, 0.16707616707616707, 0.1938798302434666, 0.7542997542997543, 0.019879383515747154, 0.04511949966495421, 1.0]]}], {}, {\"showLink\": true, \"linkText\": \"Export to plot.ly\"})});</script>"
      ],
      "text/vnd.plotly.v1+html": [
       "<div id=\"733b21bd-d926-430f-add0-0c4f6f4f50f7\" style=\"height: 525px; width: 100%;\" class=\"plotly-graph-div\"></div><script type=\"text/javascript\">require([\"plotly\"], function(Plotly) { window.PLOTLYENV=window.PLOTLYENV || {};window.PLOTLYENV.BASE_URL=\"https://plot.ly\";Plotly.newPlot(\"733b21bd-d926-430f-add0-0c4f6f4f50f7\", [{\"x\": [\"slash_burn\", \"blooming\", \"selective_logging\", \"blow_down\", \"artisinal_mine\", \"habitation\", \"road\", \"cloudy\", \"primary\", \"clear\", \"conventional_mine\", \"partly_cloudy\", \"water\", \"agriculture\", \"bare_ground\", \"haze\", \"cultivation\"], \"type\": \"heatmap\", \"y\": [\"slash_burn\", \"blooming\", \"selective_logging\", \"blow_down\", \"artisinal_mine\", \"habitation\", \"road\", \"cloudy\", \"primary\", \"clear\", \"conventional_mine\", \"partly_cloudy\", \"water\", \"agriculture\", \"bare_ground\", \"haze\", \"cultivation\"], \"z\": [[1.0, 0.009569377990430622, 0.009569377990430622, 0.009569377990430622, 0.0, 0.19617224880382775, 0.1722488038277512, 0.0, 1.0, 0.8277511961722488, 0.0, 0.15789473684210525, 0.11483253588516747, 0.569377990430622, 0.04784688995215311, 0.014354066985645933, 0.6028708133971292], [0.006024096385542169, 1.0, 0.02108433734939759, 0.0030120481927710845, 0.0, 0.012048192771084338, 0.030120481927710843, 0.0, 1.0, 0.9367469879518072, 0.0, 0.05120481927710843, 0.04819277108433735, 0.0963855421686747, 0.009036144578313253, 0.012048192771084338, 0.10542168674698796], [0.0058823529411764705, 0.020588235294117647, 1.0, 0.0029411764705882353, 0.01764705882352941, 0.03823529411764706, 0.4441176470588235, 0.0, 1.0, 0.9058823529411765, 0.0, 0.07941176470588235, 0.14411764705882352, 0.19117647058823528, 0.03823529411764706, 0.014705882352941176, 0.17058823529411765], [0.02040816326530612, 0.01020408163265306, 0.01020408163265306, 1.0, 0.0, 0.030612244897959183, 0.02040816326530612, 0.0, 1.0, 0.8673469387755102, 0.0, 0.1326530612244898, 0.030612244897959183, 0.22448979591836735, 0.04081632653061224, 0.0, 0.08163265306122448], [0.0, 0.0, 0.017699115044247787, 0.0, 1.0, 0.0855457227138643, 0.32448377581120946, 0.0, 0.9557522123893806, 0.9056047197640118, 0.011799410029498525, 0.07964601769911504, 0.8820058997050148, 0.11209439528023599, 0.11799410029498525, 0.014749262536873156, 0.05309734513274336], [0.011202185792349727, 0.001092896174863388, 0.003551912568306011, 0.000819672131147541, 0.007923497267759563, 1.0, 0.7612021857923498, 0.0, 0.9478142076502732, 0.8442622950819673, 0.009836065573770493, 0.12049180327868853, 0.25, 0.7478142076502732, 0.04453551912568306, 0.03524590163934426, 0.24453551912568305], [0.0044604138272828645, 0.0012390038409119068, 0.018708957997769792, 0.00024780076818238137, 0.013629042250030974, 0.34518647007805725, 1.0, 0.0, 0.9575021682567216, 0.7799529178540453, 0.0073101226613802505, 0.17123033081402553, 0.2632883161937802, 0.7476149176062445, 0.040019824061454594, 0.04881675133192913, 0.16032709701400075], [0.0, 0.0, 0.0, 0.0, 0.0, 0.0, 0.0, 1.0, 0.0, 0.0, 0.0, 0.0, 0.0, 0.0, 0.0, 0.0, 0.0], [0.005571401914003146, 0.008850265241382988, 0.009063524644789807, 0.0026124276917335325, 0.008637005837976169, 0.09247460880228188, 0.20600858369098712, 0.0, 1.0, 0.7375576466824834, 0.0025057979900301227, 0.19126702743049076, 0.18662863540639246, 0.31914269719830457, 0.01820702156585717, 0.07117532588702583, 0.11875883027217231], [0.006084907319475221, 0.010938764025183779, 0.010833245401146635, 0.002989694347719039, 0.010798072526467589, 0.10868418275825684, 0.22141324610460414, 0.0, 0.9731630966198868, 1.0, 0.0024621012275333263, 0.0, 0.19352115648411944, 0.3218318033132848, 0.026274137385248496, 0.0, 0.1240547289930006], [0.0, 0.0, 0.0, 0.0, 0.04, 0.36, 0.59, 0.0, 0.94, 0.7, 1.0, 0.28, 0.26, 0.24, 0.1, 0.02, 0.04], [0.004544828536014323, 0.002341275306431621, 0.00371849607492081, 0.0017903869990359455, 0.00371849607492081, 0.060735435890373224, 0.1903319102052059, 0.0, 0.988155901390993, 0.0, 0.0038562181517697285, 1.0, 0.17835008951934994, 0.34334113758435475, 0.010191433686819996, 0.0, 0.10301611348299132], [0.0032384293617595465, 0.002158952907839698, 0.006611793280259074, 0.0004048036702199433, 0.04034543246525435, 0.12346511941708271, 0.28673593307245987, 0.0, 0.9446768317366078, 0.7424099311833761, 0.0035082984752395087, 0.17474025097827553, 1.0, 0.36594251787882875, 0.02779651868843611, 0.08271488328160842, 0.1171231952503036], [0.009663012586276899, 0.002598457166057653, 0.005278116118554608, 0.0017864393016646365, 0.0030856678846934633, 0.22224928948436865, 0.4899715793747462, 0.0, 0.9721477872513196, 0.7429963459196103, 0.00194884287454324, 0.20243605359317904, 0.22021924482338612, 1.0, 0.018270401948842874, 0.05456760048721072, 0.2742184328055217], [0.01160092807424594, 0.0034802784222737818, 0.015081206496519721, 0.004640371229698376, 0.04640371229698376, 0.18909512761020883, 0.37470997679814383, 0.0, 0.7923433874709976, 0.8665893271461717, 0.01160092807424594, 0.08584686774941995, 0.23897911832946636, 0.26102088167053367, 1.0, 0.04756380510440835, 0.10324825986078887], [0.0011123470522803114, 0.0014831294030404152, 0.0018539117538005192, 0.0, 0.0018539117538005192, 0.047830923248053395, 0.1460882461994809, 0.0, 0.9899888765294772, 0.0, 0.0007415647015202076, 0.0, 0.22728958101594365, 0.24916573971078976, 0.015202076381164257, 1.0, 0.07489803485354098], [0.028143846325664506, 0.007817735090462363, 0.012955103864194774, 0.0017869108778199687, 0.0040205494750949295, 0.199910654456109, 0.28903283448737993, 0.0, 0.995085995085995, 0.7878043332588787, 0.0008934554389099843, 0.16707616707616707, 0.1938798302434666, 0.7542997542997543, 0.019879383515747154, 0.04511949966495421, 1.0]]}], {}, {\"showLink\": true, \"linkText\": \"Export to plot.ly\"})});</script>"
      ]
     },
     "metadata": {},
     "output_type": "display_data"
    }
   ],
   "source": [
    "#Co-occurrence Matrix\n",
    "com = np.zeros([len(counts)]*2)\n",
    "for i, l in enumerate(list(counts.keys())):\n",
    "    for i2, l2 in enumerate(list(counts.keys())):\n",
    "        c = 0\n",
    "        cy = 0\n",
    "        for row in labels.values:\n",
    "            if l in row:\n",
    "                c += 1\n",
    "                if l2 in row: cy += 1\n",
    "        com[i, i2] = cy / c\n",
    "        \n",
    "data=[go.Heatmap(z=com, x=list(counts.keys()), y=list(counts.keys()))]\n",
    "layout=go.Layout(height=800, width=800, title='Co-occurence matrix of training labels')\n",
    "fig=dict(data=data, layout=layout)\n",
    "py.iplot(data, filename='train-com')"
   ]
  },
  {
   "cell_type": "code",
   "execution_count": 28,
   "metadata": {},
   "outputs": [
    {
     "ename": "error",
     "evalue": "C:\\projects\\opencv-python\\opencv\\modules\\imgproc\\src\\color.cpp:10606: error: (-215) scn == 3 || scn == 4 in function cv::cvtColor\n",
     "output_type": "error",
     "traceback": [
      "\u001b[1;31m---------------------------------------------------------------------------\u001b[0m",
      "\u001b[1;31merror\u001b[0m                                     Traceback (most recent call last)",
      "\u001b[1;32m<ipython-input-28-537a9c8c000a>\u001b[0m in \u001b[0;36m<module>\u001b[1;34m()\u001b[0m\n\u001b[0;32m      6\u001b[0m \u001b[1;32mfor\u001b[0m \u001b[0mf\u001b[0m\u001b[1;33m,\u001b[0m \u001b[0ml\u001b[0m \u001b[1;32min\u001b[0m \u001b[0mdf_train\u001b[0m\u001b[1;33m[\u001b[0m\u001b[1;33m:\u001b[0m\u001b[1;36m9\u001b[0m\u001b[1;33m]\u001b[0m\u001b[1;33m.\u001b[0m\u001b[0mvalues\u001b[0m\u001b[1;33m:\u001b[0m\u001b[1;33m\u001b[0m\u001b[0m\n\u001b[0;32m      7\u001b[0m     \u001b[0mimg\u001b[0m \u001b[1;33m=\u001b[0m \u001b[0mcv2\u001b[0m\u001b[1;33m.\u001b[0m\u001b[0mimread\u001b[0m\u001b[1;33m(\u001b[0m\u001b[1;34m'../input/train-jpg/{}.jpg'\u001b[0m\u001b[1;33m.\u001b[0m\u001b[0mformat\u001b[0m\u001b[1;33m(\u001b[0m\u001b[0mf\u001b[0m\u001b[1;33m)\u001b[0m\u001b[1;33m)\u001b[0m\u001b[1;33m\u001b[0m\u001b[0m\n\u001b[1;32m----> 8\u001b[1;33m     \u001b[0max\u001b[0m\u001b[1;33m[\u001b[0m\u001b[0mi\u001b[0m \u001b[1;33m//\u001b[0m \u001b[1;36m3\u001b[0m\u001b[1;33m,\u001b[0m \u001b[0mi\u001b[0m \u001b[1;33m%\u001b[0m \u001b[1;36m3\u001b[0m\u001b[1;33m]\u001b[0m\u001b[1;33m.\u001b[0m\u001b[0mimshow\u001b[0m\u001b[1;33m(\u001b[0m\u001b[0mcv2\u001b[0m\u001b[1;33m.\u001b[0m\u001b[0mcvtColor\u001b[0m\u001b[1;33m(\u001b[0m\u001b[0mimg\u001b[0m\u001b[1;33m,\u001b[0m \u001b[0mcv2\u001b[0m\u001b[1;33m.\u001b[0m\u001b[0mCOLOR_BGR2RGB\u001b[0m\u001b[1;33m)\u001b[0m\u001b[1;33m)\u001b[0m\u001b[1;33m\u001b[0m\u001b[0m\n\u001b[0m\u001b[0;32m      9\u001b[0m     \u001b[0max\u001b[0m\u001b[1;33m[\u001b[0m\u001b[0mi\u001b[0m \u001b[1;33m//\u001b[0m \u001b[1;36m3\u001b[0m\u001b[1;33m,\u001b[0m \u001b[0mi\u001b[0m \u001b[1;33m%\u001b[0m \u001b[1;36m3\u001b[0m\u001b[1;33m]\u001b[0m\u001b[1;33m.\u001b[0m\u001b[0mset_title\u001b[0m\u001b[1;33m(\u001b[0m\u001b[1;34m'{} - {}'\u001b[0m\u001b[1;33m.\u001b[0m\u001b[0mformat\u001b[0m\u001b[1;33m(\u001b[0m\u001b[0mf\u001b[0m\u001b[1;33m,\u001b[0m \u001b[0ml\u001b[0m\u001b[1;33m)\u001b[0m\u001b[1;33m)\u001b[0m\u001b[1;33m\u001b[0m\u001b[0m\n\u001b[0;32m     10\u001b[0m     \u001b[1;31m#ax[i // 4, i % 4].show()\u001b[0m\u001b[1;33m\u001b[0m\u001b[1;33m\u001b[0m\u001b[0m\n",
      "\u001b[1;31merror\u001b[0m: C:\\projects\\opencv-python\\opencv\\modules\\imgproc\\src\\color.cpp:10606: error: (-215) scn == 3 || scn == 4 in function cv::cvtColor\n"
     ]
    },
    {
     "data": {
      "image/png": "[encoded data removed]",
      "text/plain": [
       "<matplotlib.figure.Figure at 0x2038c9eec50>"
      ]
     },
     "metadata": {},
     "output_type": "display_data"
    }
   ],
   "source": [
    "import cv2\n",
    "new_style = {'grid': False}\n",
    "plt.rc('axes', **new_style)\n",
    "_, ax = plt.subplots(3, 3, sharex='col', sharey='row', figsize=(20, 20))\n",
    "i = 0\n",
    "for f, l in df_train[:9].values:\n",
    "    img = cv2.imread('../input/train-jpg/{}.jpg'.format(f))\n",
    "    ax[i // 3, i % 3].imshow(cv2.cvtColor(img, cv2.COLOR_BGR2RGB))\n",
    "    ax[i // 3, i % 3].set_title('{} - {}'.format(f, l))\n",
    "    #ax[i // 4, i % 4].show()\n",
    "    i += 1\n",
    "    \n",
    "plt.show()"
   ]
  },
  {
   "cell_type": "code",
   "execution_count": null,
   "metadata": {
    "collapsed": true
   },
   "outputs": [],
   "source": []
  }
 ],
 "metadata": {
  "kernelspec": {
   "display_name": "Python 3",
   "language": "python",
   "name": "python3"
  },
  "language_info": {
   "codemirror_mode": {
    "name": "ipython",
    "version": 3
   },
   "file_extension": ".py",
   "mimetype": "text/x-python",
   "name": "python",
   "nbconvert_exporter": "python",
   "pygments_lexer": "ipython3",
   "version": "3.5.3"
  }
 },
 "nbformat": 4,
 "nbformat_minor": 2
}
